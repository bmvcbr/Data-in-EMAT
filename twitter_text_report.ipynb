{
 "cells": [
  {
   "cell_type": "markdown",
   "id": "c4956061",
   "metadata": {},
   "source": [
    "# Twitter Text Report\n",
    "Kaitlin Cochran"
   ]
  },
  {
   "cell_type": "markdown",
   "id": "e0d9233c",
   "metadata": {},
   "source": [
    "### Driving Question\n",
    "Are people talking about the Beatles' new album they released, or is the #Beatles being used for things that are not related to the recent album?\n",
    "\n",
    "\n",
    "I used the #Beatles query because I wanted to get information about who was using the hashtag to see how many tweets related to the new album. I didn't use a language filter in the query because I thought I would get more results when looking outside of the English language."
   ]
  },
  {
   "cell_type": "code",
   "execution_count": 201,
   "id": "f612876f",
   "metadata": {},
   "outputs": [],
   "source": [
    "import requests\n",
    "import pandas as pd\n",
    "import urllib\n",
    "import json"
   ]
  },
  {
   "cell_type": "markdown",
   "id": "d5f1d04a",
   "metadata": {},
   "source": [
    "Getting the bearer token from a text file in the same directory:"
   ]
  },
  {
   "cell_type": "code",
   "execution_count": 202,
   "id": "20aac273",
   "metadata": {},
   "outputs": [],
   "source": [
    "bearer_token = pd.read_csv(\"twitterAPI.txt\", sep = \"\\t\", header = 0)"
   ]
  },
  {
   "cell_type": "markdown",
   "id": "32b7a81a",
   "metadata": {},
   "source": [
    "Creating a header for the API call"
   ]
  },
  {
   "cell_type": "code",
   "execution_count": 203,
   "id": "19b27925",
   "metadata": {},
   "outputs": [],
   "source": [
    "header = {'Authorization' : 'Bearer {}'.format(bearer_token['Bearer_Token'].iloc[0])}"
   ]
  },
  {
   "cell_type": "markdown",
   "id": "e22635c6",
   "metadata": {},
   "source": [
    "Defining the endpoint url I will be using to gather tweets"
   ]
  },
  {
   "cell_type": "code",
   "execution_count": 204,
   "id": "71ef2608",
   "metadata": {},
   "outputs": [],
   "source": [
    "endpoint_url = 'https://api.twitter.com/2/tweets/search/recent'"
   ]
  },
  {
   "cell_type": "markdown",
   "id": "5e314177",
   "metadata": {},
   "source": [
    "Defining the query I will be using to pull tweets from Twitter"
   ]
  },
  {
   "cell_type": "code",
   "execution_count": 205,
   "id": "0f28c319",
   "metadata": {},
   "outputs": [],
   "source": [
    "query = urllib.parse.quote('(#beatles)')"
   ]
  },
  {
   "cell_type": "markdown",
   "id": "64fd8913",
   "metadata": {},
   "source": [
    "Defining tweet fields I would like to pull for each tweet"
   ]
  },
  {
   "cell_type": "code",
   "execution_count": 206,
   "id": "834363ab",
   "metadata": {},
   "outputs": [],
   "source": [
    "tweet_fields = 'public_metrics,created_at,author_id,lang'"
   ]
  },
  {
   "cell_type": "markdown",
   "id": "c3a2f555",
   "metadata": {},
   "source": [
    "Defining that I would also like to pull the author ID and geo place ID for each tweet"
   ]
  },
  {
   "cell_type": "code",
   "execution_count": 207,
   "id": "5353a16d",
   "metadata": {},
   "outputs": [],
   "source": [
    "expansions = 'author_id,geo.place_id'"
   ]
  },
  {
   "cell_type": "markdown",
   "id": "05b8d272",
   "metadata": {},
   "source": [
    "Defining the final API url that will be used to access Twitter and pull the tweets I wish to see"
   ]
  },
  {
   "cell_type": "code",
   "execution_count": 208,
   "id": "2f997fff",
   "metadata": {},
   "outputs": [],
   "source": [
    "my_api_url = endpoint_url + '?query={}&max_results=100&tweet.fields={}&expansions={}&user.fields={}'.format(query, tweet_fields, expansions, 'username')"
   ]
  },
  {
   "cell_type": "markdown",
   "id": "12106442",
   "metadata": {},
   "source": [
    "Using the requests package to make the GET API call"
   ]
  },
  {
   "cell_type": "code",
   "execution_count": 209,
   "id": "e5941332",
   "metadata": {},
   "outputs": [],
   "source": [
    "response = requests.request(\"GET\", my_api_url, headers = header)"
   ]
  },
  {
   "cell_type": "markdown",
   "id": "020d40b2",
   "metadata": {},
   "source": [
    "Ensuring that tweet data came through"
   ]
  },
  {
   "cell_type": "code",
   "execution_count": null,
   "id": "fef8d2f5",
   "metadata": {},
   "outputs": [],
   "source": [
    "response.text"
   ]
  },
  {
   "cell_type": "code",
   "execution_count": 211,
   "id": "18b778e9",
   "metadata": {},
   "outputs": [],
   "source": [
    "responseDict = json.loads(response.text)"
   ]
  },
  {
   "cell_type": "code",
   "execution_count": 212,
   "id": "72ae1adf",
   "metadata": {
    "scrolled": true
   },
   "outputs": [
    {
     "data": {
      "text/plain": [
       "dict_keys(['data', 'includes', 'meta'])"
      ]
     },
     "execution_count": 212,
     "metadata": {},
     "output_type": "execute_result"
    }
   ],
   "source": [
    "responseDict.keys()"
   ]
  },
  {
   "cell_type": "markdown",
   "id": "495fd1cb",
   "metadata": {},
   "source": [
    "Creating a Data Frame with the new tweet data"
   ]
  },
  {
   "cell_type": "code",
   "execution_count": 213,
   "id": "3b2d1817",
   "metadata": {},
   "outputs": [],
   "source": [
    "responseDf = pd.DataFrame(responseDict['data'])"
   ]
  },
  {
   "cell_type": "code",
   "execution_count": 231,
   "id": "dc54bd40",
   "metadata": {},
   "outputs": [
    {
     "data": {
      "text/html": [
       "<div>\n",
       "<style scoped>\n",
       "    .dataframe tbody tr th:only-of-type {\n",
       "        vertical-align: middle;\n",
       "    }\n",
       "\n",
       "    .dataframe tbody tr th {\n",
       "        vertical-align: top;\n",
       "    }\n",
       "\n",
       "    .dataframe thead th {\n",
       "        text-align: right;\n",
       "    }\n",
       "</style>\n",
       "<table border=\"1\" class=\"dataframe\">\n",
       "  <thead>\n",
       "    <tr style=\"text-align: right;\">\n",
       "      <th></th>\n",
       "      <th>author_id</th>\n",
       "      <th>public_metrics</th>\n",
       "      <th>id</th>\n",
       "      <th>text</th>\n",
       "      <th>created_at</th>\n",
       "      <th>lang</th>\n",
       "      <th>geo</th>\n",
       "    </tr>\n",
       "  </thead>\n",
       "  <tbody>\n",
       "    <tr>\n",
       "      <th>1</th>\n",
       "      <td>922987038063828992</td>\n",
       "      <td>{'retweet_count': 1, 'reply_count': 0, 'like_c...</td>\n",
       "      <td>1450970171976261634</td>\n",
       "      <td>RT @izumiman1961: THE #BEATLES https://t.co/GT...</td>\n",
       "      <td>2021-10-20T23:40:21.000Z</td>\n",
       "      <td>und</td>\n",
       "      <td>NaN</td>\n",
       "    </tr>\n",
       "    <tr>\n",
       "      <th>2</th>\n",
       "      <td>922987038063828992</td>\n",
       "      <td>{'retweet_count': 1, 'reply_count': 0, 'like_c...</td>\n",
       "      <td>1450970113260150788</td>\n",
       "      <td>RT @izumiman1961: THE #BEATLES https://t.co/hK...</td>\n",
       "      <td>2021-10-20T23:40:07.000Z</td>\n",
       "      <td>und</td>\n",
       "      <td>NaN</td>\n",
       "    </tr>\n",
       "    <tr>\n",
       "      <th>3</th>\n",
       "      <td>922987038063828992</td>\n",
       "      <td>{'retweet_count': 1, 'reply_count': 0, 'like_c...</td>\n",
       "      <td>1450970065403219968</td>\n",
       "      <td>RT @izumiman1961: THE #BEATLES https://t.co/Uw...</td>\n",
       "      <td>2021-10-20T23:39:55.000Z</td>\n",
       "      <td>und</td>\n",
       "      <td>NaN</td>\n",
       "    </tr>\n",
       "    <tr>\n",
       "      <th>4</th>\n",
       "      <td>922987038063828992</td>\n",
       "      <td>{'retweet_count': 1, 'reply_count': 0, 'like_c...</td>\n",
       "      <td>1450969987481423876</td>\n",
       "      <td>RT @izumiman1961: #JamesMcCartney #DhaniHarris...</td>\n",
       "      <td>2021-10-20T23:39:37.000Z</td>\n",
       "      <td>und</td>\n",
       "      <td>NaN</td>\n",
       "    </tr>\n",
       "    <tr>\n",
       "      <th>5</th>\n",
       "      <td>1078805978731237376</td>\n",
       "      <td>{'retweet_count': 2, 'reply_count': 0, 'like_c...</td>\n",
       "      <td>1450969866752696320</td>\n",
       "      <td>RT @planet_beatles: Fact or Fiction? Ringo fir...</td>\n",
       "      <td>2021-10-20T23:39:08.000Z</td>\n",
       "      <td>en</td>\n",
       "      <td>NaN</td>\n",
       "    </tr>\n",
       "    <tr>\n",
       "      <th>6</th>\n",
       "      <td>146676719</td>\n",
       "      <td>{'retweet_count': 63, 'reply_count': 0, 'like_...</td>\n",
       "      <td>1450969840617869313</td>\n",
       "      <td>RT @the_stylophone: THE BEATLES playing the St...</td>\n",
       "      <td>2021-10-20T23:39:02.000Z</td>\n",
       "      <td>en</td>\n",
       "      <td>NaN</td>\n",
       "    </tr>\n",
       "    <tr>\n",
       "      <th>7</th>\n",
       "      <td>133131352</td>\n",
       "      <td>{'retweet_count': 4, 'reply_count': 0, 'like_c...</td>\n",
       "      <td>1450969603673362443</td>\n",
       "      <td>RT @BeatlesArchive2: John Lennon (+ George)\\nT...</td>\n",
       "      <td>2021-10-20T23:38:05.000Z</td>\n",
       "      <td>en</td>\n",
       "      <td>NaN</td>\n",
       "    </tr>\n",
       "    <tr>\n",
       "      <th>8</th>\n",
       "      <td>987106751227936768</td>\n",
       "      <td>{'retweet_count': 16, 'reply_count': 0, 'like_...</td>\n",
       "      <td>1450969488107655172</td>\n",
       "      <td>RT @TheBeatlesPix: The #Beatles July 10 1964 a...</td>\n",
       "      <td>2021-10-20T23:37:38.000Z</td>\n",
       "      <td>en</td>\n",
       "      <td>NaN</td>\n",
       "    </tr>\n",
       "    <tr>\n",
       "      <th>9</th>\n",
       "      <td>814919222690201601</td>\n",
       "      <td>{'retweet_count': 16, 'reply_count': 0, 'like_...</td>\n",
       "      <td>1450969230812319749</td>\n",
       "      <td>RT @TheBeatlesPix: The #Beatles July 10 1964 a...</td>\n",
       "      <td>2021-10-20T23:36:36.000Z</td>\n",
       "      <td>en</td>\n",
       "      <td>NaN</td>\n",
       "    </tr>\n",
       "  </tbody>\n",
       "</table>\n",
       "</div>"
      ],
      "text/plain": [
       "             author_id                                     public_metrics  \\\n",
       "1   922987038063828992  {'retweet_count': 1, 'reply_count': 0, 'like_c...   \n",
       "2   922987038063828992  {'retweet_count': 1, 'reply_count': 0, 'like_c...   \n",
       "3   922987038063828992  {'retweet_count': 1, 'reply_count': 0, 'like_c...   \n",
       "4   922987038063828992  {'retweet_count': 1, 'reply_count': 0, 'like_c...   \n",
       "5  1078805978731237376  {'retweet_count': 2, 'reply_count': 0, 'like_c...   \n",
       "6            146676719  {'retweet_count': 63, 'reply_count': 0, 'like_...   \n",
       "7            133131352  {'retweet_count': 4, 'reply_count': 0, 'like_c...   \n",
       "8   987106751227936768  {'retweet_count': 16, 'reply_count': 0, 'like_...   \n",
       "9   814919222690201601  {'retweet_count': 16, 'reply_count': 0, 'like_...   \n",
       "\n",
       "                    id                                               text  \\\n",
       "1  1450970171976261634  RT @izumiman1961: THE #BEATLES https://t.co/GT...   \n",
       "2  1450970113260150788  RT @izumiman1961: THE #BEATLES https://t.co/hK...   \n",
       "3  1450970065403219968  RT @izumiman1961: THE #BEATLES https://t.co/Uw...   \n",
       "4  1450969987481423876  RT @izumiman1961: #JamesMcCartney #DhaniHarris...   \n",
       "5  1450969866752696320  RT @planet_beatles: Fact or Fiction? Ringo fir...   \n",
       "6  1450969840617869313  RT @the_stylophone: THE BEATLES playing the St...   \n",
       "7  1450969603673362443  RT @BeatlesArchive2: John Lennon (+ George)\\nT...   \n",
       "8  1450969488107655172  RT @TheBeatlesPix: The #Beatles July 10 1964 a...   \n",
       "9  1450969230812319749  RT @TheBeatlesPix: The #Beatles July 10 1964 a...   \n",
       "\n",
       "                 created_at lang  geo  \n",
       "1  2021-10-20T23:40:21.000Z  und  NaN  \n",
       "2  2021-10-20T23:40:07.000Z  und  NaN  \n",
       "3  2021-10-20T23:39:55.000Z  und  NaN  \n",
       "4  2021-10-20T23:39:37.000Z  und  NaN  \n",
       "5  2021-10-20T23:39:08.000Z   en  NaN  \n",
       "6  2021-10-20T23:39:02.000Z   en  NaN  \n",
       "7  2021-10-20T23:38:05.000Z   en  NaN  \n",
       "8  2021-10-20T23:37:38.000Z   en  NaN  \n",
       "9  2021-10-20T23:36:36.000Z   en  NaN  "
      ]
     },
     "execution_count": 231,
     "metadata": {},
     "output_type": "execute_result"
    }
   ],
   "source": [
    "responseDf[1:10]"
   ]
  },
  {
   "cell_type": "markdown",
   "id": "6b50e758",
   "metadata": {},
   "source": [
    "Using the \"meta\" key to ensure the \"next_token\" field is not blank"
   ]
  },
  {
   "cell_type": "code",
   "execution_count": 215,
   "id": "bac3012d",
   "metadata": {},
   "outputs": [
    {
     "data": {
      "text/plain": [
       "{'newest_id': '1450970576663818240',\n",
       " 'oldest_id': '1450944762161340416',\n",
       " 'result_count': 100,\n",
       " 'next_token': 'b26v89c19zqg8o3fpdv5st43a32sz4edswg4o8jdfk1a5'}"
      ]
     },
     "execution_count": 215,
     "metadata": {},
     "output_type": "execute_result"
    }
   ],
   "source": [
    "responseDict['meta']"
   ]
  },
  {
   "cell_type": "markdown",
   "id": "3a4a58f7",
   "metadata": {},
   "source": [
    "\"Flipping to the next page\" of tweets using pagination and the \"next_token\" field"
   ]
  },
  {
   "cell_type": "code",
   "execution_count": 216,
   "id": "fa90a142",
   "metadata": {},
   "outputs": [],
   "source": [
    "url_2 = my_api_url + '&next_token={}'.format(responseDict['meta']['next_token'])"
   ]
  },
  {
   "cell_type": "markdown",
   "id": "e4bfdfce",
   "metadata": {},
   "source": [
    "Making the second API call with the new API url"
   ]
  },
  {
   "cell_type": "code",
   "execution_count": 217,
   "id": "c92008cf",
   "metadata": {},
   "outputs": [],
   "source": [
    "response2 = requests.request(\"GET\", url_2, headers = header)"
   ]
  },
  {
   "cell_type": "code",
   "execution_count": null,
   "id": "863c7ea3",
   "metadata": {
    "scrolled": true
   },
   "outputs": [],
   "source": [
    "response2.text"
   ]
  },
  {
   "cell_type": "code",
   "execution_count": 219,
   "id": "cf1c9cd9",
   "metadata": {},
   "outputs": [],
   "source": [
    "responseDict2 = json.loads(response2.text)"
   ]
  },
  {
   "cell_type": "markdown",
   "id": "7ae50134",
   "metadata": {},
   "source": [
    "Getting the last \"next_token\" for a third \"page\" of tweets"
   ]
  },
  {
   "cell_type": "code",
   "execution_count": 220,
   "id": "05c2ad68",
   "metadata": {},
   "outputs": [
    {
     "data": {
      "text/plain": [
       "{'newest_id': '1450944689956433937',\n",
       " 'oldest_id': '1450929354842722317',\n",
       " 'result_count': 100,\n",
       " 'next_token': 'b26v89c19zqg8o3fpdv5st3hwsl4d9myezp6o7412r4vx'}"
      ]
     },
     "execution_count": 220,
     "metadata": {},
     "output_type": "execute_result"
    }
   ],
   "source": [
    "responseDict2['meta']"
   ]
  },
  {
   "cell_type": "markdown",
   "id": "cb2fd69f",
   "metadata": {},
   "source": [
    "Making the last API url for the last page of tweets"
   ]
  },
  {
   "cell_type": "code",
   "execution_count": 221,
   "id": "2d53a2c2",
   "metadata": {},
   "outputs": [],
   "source": [
    "url_3 = my_api_url + '&next_token={}'.format(responseDict2['meta']['next_token'])"
   ]
  },
  {
   "cell_type": "markdown",
   "id": "97ac04b6",
   "metadata": {},
   "source": [
    "Making the final API call "
   ]
  },
  {
   "cell_type": "code",
   "execution_count": 222,
   "id": "e60bb6e3",
   "metadata": {},
   "outputs": [],
   "source": [
    "response3 = requests.request(\"GET\", url_3, headers = header)"
   ]
  },
  {
   "cell_type": "code",
   "execution_count": null,
   "id": "42a7f6d6",
   "metadata": {},
   "outputs": [],
   "source": [
    "response3.text"
   ]
  },
  {
   "cell_type": "code",
   "execution_count": 232,
   "id": "3270f14f",
   "metadata": {},
   "outputs": [
    {
     "data": {
      "text/html": [
       "<div>\n",
       "<style scoped>\n",
       "    .dataframe tbody tr th:only-of-type {\n",
       "        vertical-align: middle;\n",
       "    }\n",
       "\n",
       "    .dataframe tbody tr th {\n",
       "        vertical-align: top;\n",
       "    }\n",
       "\n",
       "    .dataframe thead th {\n",
       "        text-align: right;\n",
       "    }\n",
       "</style>\n",
       "<table border=\"1\" class=\"dataframe\">\n",
       "  <thead>\n",
       "    <tr style=\"text-align: right;\">\n",
       "      <th></th>\n",
       "      <th>author_id</th>\n",
       "      <th>public_metrics</th>\n",
       "      <th>id</th>\n",
       "      <th>text</th>\n",
       "      <th>created_at</th>\n",
       "      <th>lang</th>\n",
       "      <th>geo</th>\n",
       "    </tr>\n",
       "  </thead>\n",
       "  <tbody>\n",
       "    <tr>\n",
       "      <th>1</th>\n",
       "      <td>922987038063828992</td>\n",
       "      <td>{'retweet_count': 1, 'reply_count': 0, 'like_c...</td>\n",
       "      <td>1450970171976261634</td>\n",
       "      <td>RT @izumiman1961: THE #BEATLES https://t.co/GT...</td>\n",
       "      <td>2021-10-20T23:40:21.000Z</td>\n",
       "      <td>und</td>\n",
       "      <td>NaN</td>\n",
       "    </tr>\n",
       "    <tr>\n",
       "      <th>2</th>\n",
       "      <td>922987038063828992</td>\n",
       "      <td>{'retweet_count': 1, 'reply_count': 0, 'like_c...</td>\n",
       "      <td>1450970113260150788</td>\n",
       "      <td>RT @izumiman1961: THE #BEATLES https://t.co/hK...</td>\n",
       "      <td>2021-10-20T23:40:07.000Z</td>\n",
       "      <td>und</td>\n",
       "      <td>NaN</td>\n",
       "    </tr>\n",
       "    <tr>\n",
       "      <th>3</th>\n",
       "      <td>922987038063828992</td>\n",
       "      <td>{'retweet_count': 1, 'reply_count': 0, 'like_c...</td>\n",
       "      <td>1450970065403219968</td>\n",
       "      <td>RT @izumiman1961: THE #BEATLES https://t.co/Uw...</td>\n",
       "      <td>2021-10-20T23:39:55.000Z</td>\n",
       "      <td>und</td>\n",
       "      <td>NaN</td>\n",
       "    </tr>\n",
       "    <tr>\n",
       "      <th>4</th>\n",
       "      <td>922987038063828992</td>\n",
       "      <td>{'retweet_count': 1, 'reply_count': 0, 'like_c...</td>\n",
       "      <td>1450969987481423876</td>\n",
       "      <td>RT @izumiman1961: #JamesMcCartney #DhaniHarris...</td>\n",
       "      <td>2021-10-20T23:39:37.000Z</td>\n",
       "      <td>und</td>\n",
       "      <td>NaN</td>\n",
       "    </tr>\n",
       "    <tr>\n",
       "      <th>5</th>\n",
       "      <td>1078805978731237376</td>\n",
       "      <td>{'retweet_count': 2, 'reply_count': 0, 'like_c...</td>\n",
       "      <td>1450969866752696320</td>\n",
       "      <td>RT @planet_beatles: Fact or Fiction? Ringo fir...</td>\n",
       "      <td>2021-10-20T23:39:08.000Z</td>\n",
       "      <td>en</td>\n",
       "      <td>NaN</td>\n",
       "    </tr>\n",
       "    <tr>\n",
       "      <th>6</th>\n",
       "      <td>146676719</td>\n",
       "      <td>{'retweet_count': 63, 'reply_count': 0, 'like_...</td>\n",
       "      <td>1450969840617869313</td>\n",
       "      <td>RT @the_stylophone: THE BEATLES playing the St...</td>\n",
       "      <td>2021-10-20T23:39:02.000Z</td>\n",
       "      <td>en</td>\n",
       "      <td>NaN</td>\n",
       "    </tr>\n",
       "    <tr>\n",
       "      <th>7</th>\n",
       "      <td>133131352</td>\n",
       "      <td>{'retweet_count': 4, 'reply_count': 0, 'like_c...</td>\n",
       "      <td>1450969603673362443</td>\n",
       "      <td>RT @BeatlesArchive2: John Lennon (+ George)\\nT...</td>\n",
       "      <td>2021-10-20T23:38:05.000Z</td>\n",
       "      <td>en</td>\n",
       "      <td>NaN</td>\n",
       "    </tr>\n",
       "    <tr>\n",
       "      <th>8</th>\n",
       "      <td>987106751227936768</td>\n",
       "      <td>{'retweet_count': 16, 'reply_count': 0, 'like_...</td>\n",
       "      <td>1450969488107655172</td>\n",
       "      <td>RT @TheBeatlesPix: The #Beatles July 10 1964 a...</td>\n",
       "      <td>2021-10-20T23:37:38.000Z</td>\n",
       "      <td>en</td>\n",
       "      <td>NaN</td>\n",
       "    </tr>\n",
       "    <tr>\n",
       "      <th>9</th>\n",
       "      <td>814919222690201601</td>\n",
       "      <td>{'retweet_count': 16, 'reply_count': 0, 'like_...</td>\n",
       "      <td>1450969230812319749</td>\n",
       "      <td>RT @TheBeatlesPix: The #Beatles July 10 1964 a...</td>\n",
       "      <td>2021-10-20T23:36:36.000Z</td>\n",
       "      <td>en</td>\n",
       "      <td>NaN</td>\n",
       "    </tr>\n",
       "  </tbody>\n",
       "</table>\n",
       "</div>"
      ],
      "text/plain": [
       "             author_id                                     public_metrics  \\\n",
       "1   922987038063828992  {'retweet_count': 1, 'reply_count': 0, 'like_c...   \n",
       "2   922987038063828992  {'retweet_count': 1, 'reply_count': 0, 'like_c...   \n",
       "3   922987038063828992  {'retweet_count': 1, 'reply_count': 0, 'like_c...   \n",
       "4   922987038063828992  {'retweet_count': 1, 'reply_count': 0, 'like_c...   \n",
       "5  1078805978731237376  {'retweet_count': 2, 'reply_count': 0, 'like_c...   \n",
       "6            146676719  {'retweet_count': 63, 'reply_count': 0, 'like_...   \n",
       "7            133131352  {'retweet_count': 4, 'reply_count': 0, 'like_c...   \n",
       "8   987106751227936768  {'retweet_count': 16, 'reply_count': 0, 'like_...   \n",
       "9   814919222690201601  {'retweet_count': 16, 'reply_count': 0, 'like_...   \n",
       "\n",
       "                    id                                               text  \\\n",
       "1  1450970171976261634  RT @izumiman1961: THE #BEATLES https://t.co/GT...   \n",
       "2  1450970113260150788  RT @izumiman1961: THE #BEATLES https://t.co/hK...   \n",
       "3  1450970065403219968  RT @izumiman1961: THE #BEATLES https://t.co/Uw...   \n",
       "4  1450969987481423876  RT @izumiman1961: #JamesMcCartney #DhaniHarris...   \n",
       "5  1450969866752696320  RT @planet_beatles: Fact or Fiction? Ringo fir...   \n",
       "6  1450969840617869313  RT @the_stylophone: THE BEATLES playing the St...   \n",
       "7  1450969603673362443  RT @BeatlesArchive2: John Lennon (+ George)\\nT...   \n",
       "8  1450969488107655172  RT @TheBeatlesPix: The #Beatles July 10 1964 a...   \n",
       "9  1450969230812319749  RT @TheBeatlesPix: The #Beatles July 10 1964 a...   \n",
       "\n",
       "                 created_at lang  geo  \n",
       "1  2021-10-20T23:40:21.000Z  und  NaN  \n",
       "2  2021-10-20T23:40:07.000Z  und  NaN  \n",
       "3  2021-10-20T23:39:55.000Z  und  NaN  \n",
       "4  2021-10-20T23:39:37.000Z  und  NaN  \n",
       "5  2021-10-20T23:39:08.000Z   en  NaN  \n",
       "6  2021-10-20T23:39:02.000Z   en  NaN  \n",
       "7  2021-10-20T23:38:05.000Z   en  NaN  \n",
       "8  2021-10-20T23:37:38.000Z   en  NaN  \n",
       "9  2021-10-20T23:36:36.000Z   en  NaN  "
      ]
     },
     "execution_count": 232,
     "metadata": {},
     "output_type": "execute_result"
    }
   ],
   "source": [
    "responseDf[1:10]"
   ]
  },
  {
   "cell_type": "markdown",
   "id": "e4e9b5b0",
   "metadata": {},
   "source": [
    "Making the second page of tweets into a Data Frame"
   ]
  },
  {
   "cell_type": "code",
   "execution_count": 233,
   "id": "1a6e1175",
   "metadata": {},
   "outputs": [
    {
     "data": {
      "text/html": [
       "<div>\n",
       "<style scoped>\n",
       "    .dataframe tbody tr th:only-of-type {\n",
       "        vertical-align: middle;\n",
       "    }\n",
       "\n",
       "    .dataframe tbody tr th {\n",
       "        vertical-align: top;\n",
       "    }\n",
       "\n",
       "    .dataframe thead th {\n",
       "        text-align: right;\n",
       "    }\n",
       "</style>\n",
       "<table border=\"1\" class=\"dataframe\">\n",
       "  <thead>\n",
       "    <tr style=\"text-align: right;\">\n",
       "      <th></th>\n",
       "      <th>id</th>\n",
       "      <th>text</th>\n",
       "      <th>public_metrics</th>\n",
       "      <th>lang</th>\n",
       "      <th>created_at</th>\n",
       "      <th>author_id</th>\n",
       "    </tr>\n",
       "  </thead>\n",
       "  <tbody>\n",
       "    <tr>\n",
       "      <th>1</th>\n",
       "      <td>1450944074949746695</td>\n",
       "      <td>@BBCNews \"Take the vaccine or feel the wrath o...</td>\n",
       "      <td>{'retweet_count': 0, 'reply_count': 0, 'like_c...</td>\n",
       "      <td>en</td>\n",
       "      <td>2021-10-20T21:56:39.000Z</td>\n",
       "      <td>1239199214</td>\n",
       "    </tr>\n",
       "    <tr>\n",
       "      <th>2</th>\n",
       "      <td>1450943958935343113</td>\n",
       "      <td>RT @TheBeatlesPix: The #Beatles July 10 1964 a...</td>\n",
       "      <td>{'retweet_count': 16, 'reply_count': 0, 'like_...</td>\n",
       "      <td>en</td>\n",
       "      <td>2021-10-20T21:56:11.000Z</td>\n",
       "      <td>1189845246529736704</td>\n",
       "    </tr>\n",
       "    <tr>\n",
       "      <th>3</th>\n",
       "      <td>1450943282675023875</td>\n",
       "      <td>RT @LOVEstaff: 今日もありがとうございました！\\n\\n#SMAP の #隠れ名...</td>\n",
       "      <td>{'retweet_count': 22, 'reply_count': 0, 'like_...</td>\n",
       "      <td>ja</td>\n",
       "      <td>2021-10-20T21:53:30.000Z</td>\n",
       "      <td>124366415</td>\n",
       "    </tr>\n",
       "    <tr>\n",
       "      <th>4</th>\n",
       "      <td>1450943030274543616</td>\n",
       "      <td>RT @60sPsychJukebox: October 20th 1965:  The #...</td>\n",
       "      <td>{'retweet_count': 1, 'reply_count': 0, 'like_c...</td>\n",
       "      <td>en</td>\n",
       "      <td>2021-10-20T21:52:30.000Z</td>\n",
       "      <td>26514883</td>\n",
       "    </tr>\n",
       "    <tr>\n",
       "      <th>5</th>\n",
       "      <td>1450942918966104073</td>\n",
       "      <td>RT @izumiman1961: THE #BEATLES https://t.co/Zf...</td>\n",
       "      <td>{'retweet_count': 3, 'reply_count': 0, 'like_c...</td>\n",
       "      <td>und</td>\n",
       "      <td>2021-10-20T21:52:03.000Z</td>\n",
       "      <td>1294932089033416704</td>\n",
       "    </tr>\n",
       "    <tr>\n",
       "      <th>6</th>\n",
       "      <td>1450942798467776513</td>\n",
       "      <td>RT @izumiman1961: THE #BEATLES https://t.co/lz...</td>\n",
       "      <td>{'retweet_count': 2, 'reply_count': 0, 'like_c...</td>\n",
       "      <td>und</td>\n",
       "      <td>2021-10-20T21:51:35.000Z</td>\n",
       "      <td>922987038063828992</td>\n",
       "    </tr>\n",
       "    <tr>\n",
       "      <th>7</th>\n",
       "      <td>1450942789529661440</td>\n",
       "      <td>RT @izumiman1961: THE #BEATLES https://t.co/j2...</td>\n",
       "      <td>{'retweet_count': 1, 'reply_count': 0, 'like_c...</td>\n",
       "      <td>und</td>\n",
       "      <td>2021-10-20T21:51:32.000Z</td>\n",
       "      <td>922987038063828992</td>\n",
       "    </tr>\n",
       "    <tr>\n",
       "      <th>8</th>\n",
       "      <td>1450942704943132677</td>\n",
       "      <td>RT @izumiman1961: THE #BEATLES https://t.co/KG...</td>\n",
       "      <td>{'retweet_count': 2, 'reply_count': 0, 'like_c...</td>\n",
       "      <td>und</td>\n",
       "      <td>2021-10-20T21:51:12.000Z</td>\n",
       "      <td>922987038063828992</td>\n",
       "    </tr>\n",
       "    <tr>\n",
       "      <th>9</th>\n",
       "      <td>1450942695036252160</td>\n",
       "      <td>RT @izumiman1961: THE #BEATLES https://t.co/EX...</td>\n",
       "      <td>{'retweet_count': 1, 'reply_count': 0, 'like_c...</td>\n",
       "      <td>und</td>\n",
       "      <td>2021-10-20T21:51:10.000Z</td>\n",
       "      <td>922987038063828992</td>\n",
       "    </tr>\n",
       "  </tbody>\n",
       "</table>\n",
       "</div>"
      ],
      "text/plain": [
       "                    id                                               text  \\\n",
       "1  1450944074949746695  @BBCNews \"Take the vaccine or feel the wrath o...   \n",
       "2  1450943958935343113  RT @TheBeatlesPix: The #Beatles July 10 1964 a...   \n",
       "3  1450943282675023875  RT @LOVEstaff: 今日もありがとうございました！\\n\\n#SMAP の #隠れ名...   \n",
       "4  1450943030274543616  RT @60sPsychJukebox: October 20th 1965:  The #...   \n",
       "5  1450942918966104073  RT @izumiman1961: THE #BEATLES https://t.co/Zf...   \n",
       "6  1450942798467776513  RT @izumiman1961: THE #BEATLES https://t.co/lz...   \n",
       "7  1450942789529661440  RT @izumiman1961: THE #BEATLES https://t.co/j2...   \n",
       "8  1450942704943132677  RT @izumiman1961: THE #BEATLES https://t.co/KG...   \n",
       "9  1450942695036252160  RT @izumiman1961: THE #BEATLES https://t.co/EX...   \n",
       "\n",
       "                                      public_metrics lang  \\\n",
       "1  {'retweet_count': 0, 'reply_count': 0, 'like_c...   en   \n",
       "2  {'retweet_count': 16, 'reply_count': 0, 'like_...   en   \n",
       "3  {'retweet_count': 22, 'reply_count': 0, 'like_...   ja   \n",
       "4  {'retweet_count': 1, 'reply_count': 0, 'like_c...   en   \n",
       "5  {'retweet_count': 3, 'reply_count': 0, 'like_c...  und   \n",
       "6  {'retweet_count': 2, 'reply_count': 0, 'like_c...  und   \n",
       "7  {'retweet_count': 1, 'reply_count': 0, 'like_c...  und   \n",
       "8  {'retweet_count': 2, 'reply_count': 0, 'like_c...  und   \n",
       "9  {'retweet_count': 1, 'reply_count': 0, 'like_c...  und   \n",
       "\n",
       "                 created_at            author_id  \n",
       "1  2021-10-20T21:56:39.000Z           1239199214  \n",
       "2  2021-10-20T21:56:11.000Z  1189845246529736704  \n",
       "3  2021-10-20T21:53:30.000Z            124366415  \n",
       "4  2021-10-20T21:52:30.000Z             26514883  \n",
       "5  2021-10-20T21:52:03.000Z  1294932089033416704  \n",
       "6  2021-10-20T21:51:35.000Z   922987038063828992  \n",
       "7  2021-10-20T21:51:32.000Z   922987038063828992  \n",
       "8  2021-10-20T21:51:12.000Z   922987038063828992  \n",
       "9  2021-10-20T21:51:10.000Z   922987038063828992  "
      ]
     },
     "execution_count": 233,
     "metadata": {},
     "output_type": "execute_result"
    }
   ],
   "source": [
    "responseDf_2 = pd.DataFrame(responseDict2['data'])\n",
    "responseDf_2[1:10]"
   ]
  },
  {
   "cell_type": "markdown",
   "id": "16bff09c",
   "metadata": {},
   "source": [
    "Making the third page of tweets into a Data Frame"
   ]
  },
  {
   "cell_type": "code",
   "execution_count": 234,
   "id": "df5020c0",
   "metadata": {},
   "outputs": [
    {
     "data": {
      "text/html": [
       "<div>\n",
       "<style scoped>\n",
       "    .dataframe tbody tr th:only-of-type {\n",
       "        vertical-align: middle;\n",
       "    }\n",
       "\n",
       "    .dataframe tbody tr th {\n",
       "        vertical-align: top;\n",
       "    }\n",
       "\n",
       "    .dataframe thead th {\n",
       "        text-align: right;\n",
       "    }\n",
       "</style>\n",
       "<table border=\"1\" class=\"dataframe\">\n",
       "  <thead>\n",
       "    <tr style=\"text-align: right;\">\n",
       "      <th></th>\n",
       "      <th>created_at</th>\n",
       "      <th>public_metrics</th>\n",
       "      <th>lang</th>\n",
       "      <th>text</th>\n",
       "      <th>author_id</th>\n",
       "      <th>id</th>\n",
       "    </tr>\n",
       "  </thead>\n",
       "  <tbody>\n",
       "    <tr>\n",
       "      <th>1</th>\n",
       "      <td>2021-10-20T20:54:44.000Z</td>\n",
       "      <td>{'retweet_count': 16, 'reply_count': 0, 'like_...</td>\n",
       "      <td>en</td>\n",
       "      <td>RT @TheBeatlesPix: The #Beatles July 10 1964 a...</td>\n",
       "      <td>133131352</td>\n",
       "      <td>1450928495169884171</td>\n",
       "    </tr>\n",
       "    <tr>\n",
       "      <th>2</th>\n",
       "      <td>2021-10-20T20:54:24.000Z</td>\n",
       "      <td>{'retweet_count': 37, 'reply_count': 0, 'like_...</td>\n",
       "      <td>en</td>\n",
       "      <td>RT @BeatlesArchive2: The #Beatles Mad Day Out ...</td>\n",
       "      <td>981312863611518976</td>\n",
       "      <td>1450928407810908168</td>\n",
       "    </tr>\n",
       "    <tr>\n",
       "      <th>3</th>\n",
       "      <td>2021-10-20T20:54:00.000Z</td>\n",
       "      <td>{'retweet_count': 21, 'reply_count': 0, 'like_...</td>\n",
       "      <td>en</td>\n",
       "      <td>RT @BeatlesArchive2: John Lennon George Harris...</td>\n",
       "      <td>1393020265936867330</td>\n",
       "      <td>1450928309936734212</td>\n",
       "    </tr>\n",
       "    <tr>\n",
       "      <th>4</th>\n",
       "      <td>2021-10-20T20:53:05.000Z</td>\n",
       "      <td>{'retweet_count': 18, 'reply_count': 0, 'like_...</td>\n",
       "      <td>en</td>\n",
       "      <td>RT @BeatlesArchive2: George Harrison \\nThe #Be...</td>\n",
       "      <td>1393020265936867330</td>\n",
       "      <td>1450928078243385348</td>\n",
       "    </tr>\n",
       "    <tr>\n",
       "      <th>5</th>\n",
       "      <td>2021-10-20T20:51:50.000Z</td>\n",
       "      <td>{'retweet_count': 16, 'reply_count': 0, 'like_...</td>\n",
       "      <td>en</td>\n",
       "      <td>RT @TheBeatlesPix: The #Beatles July 10 1964 a...</td>\n",
       "      <td>1361739437563068421</td>\n",
       "      <td>1450927764136239108</td>\n",
       "    </tr>\n",
       "    <tr>\n",
       "      <th>6</th>\n",
       "      <td>2021-10-20T20:50:02.000Z</td>\n",
       "      <td>{'retweet_count': 0, 'reply_count': 0, 'like_c...</td>\n",
       "      <td>en</td>\n",
       "      <td>20th Oct 2014:\\nThe childhood home of George H...</td>\n",
       "      <td>2543507118</td>\n",
       "      <td>1450927310178332681</td>\n",
       "    </tr>\n",
       "    <tr>\n",
       "      <th>7</th>\n",
       "      <td>2021-10-20T20:48:35.000Z</td>\n",
       "      <td>{'retweet_count': 8, 'reply_count': 0, 'like_c...</td>\n",
       "      <td>en</td>\n",
       "      <td>RT @BeatlesEveryDay: I never realized what a k...</td>\n",
       "      <td>1040732834</td>\n",
       "      <td>1450926946410450946</td>\n",
       "    </tr>\n",
       "    <tr>\n",
       "      <th>8</th>\n",
       "      <td>2021-10-20T20:48:01.000Z</td>\n",
       "      <td>{'retweet_count': 4, 'reply_count': 0, 'like_c...</td>\n",
       "      <td>en</td>\n",
       "      <td>RT @LDissected: Roll 27-A\\n\\nMaxwell Silver Ha...</td>\n",
       "      <td>1294545061653262336</td>\n",
       "      <td>1450926803086839812</td>\n",
       "    </tr>\n",
       "    <tr>\n",
       "      <th>9</th>\n",
       "      <td>2021-10-20T20:47:51.000Z</td>\n",
       "      <td>{'retweet_count': 4, 'reply_count': 0, 'like_c...</td>\n",
       "      <td>en</td>\n",
       "      <td>RT @LDissected: Roll 26-A\\n\\nThe time is now 5...</td>\n",
       "      <td>1294545061653262336</td>\n",
       "      <td>1450926761877721091</td>\n",
       "    </tr>\n",
       "  </tbody>\n",
       "</table>\n",
       "</div>"
      ],
      "text/plain": [
       "                 created_at  \\\n",
       "1  2021-10-20T20:54:44.000Z   \n",
       "2  2021-10-20T20:54:24.000Z   \n",
       "3  2021-10-20T20:54:00.000Z   \n",
       "4  2021-10-20T20:53:05.000Z   \n",
       "5  2021-10-20T20:51:50.000Z   \n",
       "6  2021-10-20T20:50:02.000Z   \n",
       "7  2021-10-20T20:48:35.000Z   \n",
       "8  2021-10-20T20:48:01.000Z   \n",
       "9  2021-10-20T20:47:51.000Z   \n",
       "\n",
       "                                      public_metrics lang  \\\n",
       "1  {'retweet_count': 16, 'reply_count': 0, 'like_...   en   \n",
       "2  {'retweet_count': 37, 'reply_count': 0, 'like_...   en   \n",
       "3  {'retweet_count': 21, 'reply_count': 0, 'like_...   en   \n",
       "4  {'retweet_count': 18, 'reply_count': 0, 'like_...   en   \n",
       "5  {'retweet_count': 16, 'reply_count': 0, 'like_...   en   \n",
       "6  {'retweet_count': 0, 'reply_count': 0, 'like_c...   en   \n",
       "7  {'retweet_count': 8, 'reply_count': 0, 'like_c...   en   \n",
       "8  {'retweet_count': 4, 'reply_count': 0, 'like_c...   en   \n",
       "9  {'retweet_count': 4, 'reply_count': 0, 'like_c...   en   \n",
       "\n",
       "                                                text            author_id  \\\n",
       "1  RT @TheBeatlesPix: The #Beatles July 10 1964 a...            133131352   \n",
       "2  RT @BeatlesArchive2: The #Beatles Mad Day Out ...   981312863611518976   \n",
       "3  RT @BeatlesArchive2: John Lennon George Harris...  1393020265936867330   \n",
       "4  RT @BeatlesArchive2: George Harrison \\nThe #Be...  1393020265936867330   \n",
       "5  RT @TheBeatlesPix: The #Beatles July 10 1964 a...  1361739437563068421   \n",
       "6  20th Oct 2014:\\nThe childhood home of George H...           2543507118   \n",
       "7  RT @BeatlesEveryDay: I never realized what a k...           1040732834   \n",
       "8  RT @LDissected: Roll 27-A\\n\\nMaxwell Silver Ha...  1294545061653262336   \n",
       "9  RT @LDissected: Roll 26-A\\n\\nThe time is now 5...  1294545061653262336   \n",
       "\n",
       "                    id  \n",
       "1  1450928495169884171  \n",
       "2  1450928407810908168  \n",
       "3  1450928309936734212  \n",
       "4  1450928078243385348  \n",
       "5  1450927764136239108  \n",
       "6  1450927310178332681  \n",
       "7  1450926946410450946  \n",
       "8  1450926803086839812  \n",
       "9  1450926761877721091  "
      ]
     },
     "execution_count": 234,
     "metadata": {},
     "output_type": "execute_result"
    }
   ],
   "source": [
    "responseDict3 = json.loads(response3.text)\n",
    "responseDf_3 = pd.DataFrame(responseDict3['data'])\n",
    "responseDf_3[1:10]"
   ]
  },
  {
   "cell_type": "markdown",
   "id": "94c1f074",
   "metadata": {},
   "source": [
    "Creating one large Data Frame using the concat() function"
   ]
  },
  {
   "cell_type": "code",
   "execution_count": 227,
   "id": "1fdfc1d2",
   "metadata": {},
   "outputs": [],
   "source": [
    "frames = [responseDf, responseDf_2, responseDf_3]\n",
    "finalDataframe = pd.concat(frames)"
   ]
  },
  {
   "cell_type": "markdown",
   "id": "83832935",
   "metadata": {},
   "source": [
    "Ensuring the final Data Frame has 300 rows and all of the fields I asked for in the API calls"
   ]
  },
  {
   "cell_type": "code",
   "execution_count": 235,
   "id": "0e7cc2c0",
   "metadata": {},
   "outputs": [
    {
     "data": {
      "text/html": [
       "<div>\n",
       "<style scoped>\n",
       "    .dataframe tbody tr th:only-of-type {\n",
       "        vertical-align: middle;\n",
       "    }\n",
       "\n",
       "    .dataframe tbody tr th {\n",
       "        vertical-align: top;\n",
       "    }\n",
       "\n",
       "    .dataframe thead th {\n",
       "        text-align: right;\n",
       "    }\n",
       "</style>\n",
       "<table border=\"1\" class=\"dataframe\">\n",
       "  <thead>\n",
       "    <tr style=\"text-align: right;\">\n",
       "      <th></th>\n",
       "      <th>author_id</th>\n",
       "      <th>public_metrics</th>\n",
       "      <th>id</th>\n",
       "      <th>text</th>\n",
       "      <th>created_at</th>\n",
       "      <th>lang</th>\n",
       "      <th>geo</th>\n",
       "    </tr>\n",
       "  </thead>\n",
       "  <tbody>\n",
       "    <tr>\n",
       "      <th>1</th>\n",
       "      <td>922987038063828992</td>\n",
       "      <td>{'retweet_count': 1, 'reply_count': 0, 'like_c...</td>\n",
       "      <td>1450970171976261634</td>\n",
       "      <td>RT @izumiman1961: THE #BEATLES https://t.co/GT...</td>\n",
       "      <td>2021-10-20T23:40:21.000Z</td>\n",
       "      <td>und</td>\n",
       "      <td>NaN</td>\n",
       "    </tr>\n",
       "    <tr>\n",
       "      <th>2</th>\n",
       "      <td>922987038063828992</td>\n",
       "      <td>{'retweet_count': 1, 'reply_count': 0, 'like_c...</td>\n",
       "      <td>1450970113260150788</td>\n",
       "      <td>RT @izumiman1961: THE #BEATLES https://t.co/hK...</td>\n",
       "      <td>2021-10-20T23:40:07.000Z</td>\n",
       "      <td>und</td>\n",
       "      <td>NaN</td>\n",
       "    </tr>\n",
       "    <tr>\n",
       "      <th>3</th>\n",
       "      <td>922987038063828992</td>\n",
       "      <td>{'retweet_count': 1, 'reply_count': 0, 'like_c...</td>\n",
       "      <td>1450970065403219968</td>\n",
       "      <td>RT @izumiman1961: THE #BEATLES https://t.co/Uw...</td>\n",
       "      <td>2021-10-20T23:39:55.000Z</td>\n",
       "      <td>und</td>\n",
       "      <td>NaN</td>\n",
       "    </tr>\n",
       "    <tr>\n",
       "      <th>4</th>\n",
       "      <td>922987038063828992</td>\n",
       "      <td>{'retweet_count': 1, 'reply_count': 0, 'like_c...</td>\n",
       "      <td>1450969987481423876</td>\n",
       "      <td>RT @izumiman1961: #JamesMcCartney #DhaniHarris...</td>\n",
       "      <td>2021-10-20T23:39:37.000Z</td>\n",
       "      <td>und</td>\n",
       "      <td>NaN</td>\n",
       "    </tr>\n",
       "    <tr>\n",
       "      <th>5</th>\n",
       "      <td>1078805978731237376</td>\n",
       "      <td>{'retweet_count': 2, 'reply_count': 0, 'like_c...</td>\n",
       "      <td>1450969866752696320</td>\n",
       "      <td>RT @planet_beatles: Fact or Fiction? Ringo fir...</td>\n",
       "      <td>2021-10-20T23:39:08.000Z</td>\n",
       "      <td>en</td>\n",
       "      <td>NaN</td>\n",
       "    </tr>\n",
       "    <tr>\n",
       "      <th>6</th>\n",
       "      <td>146676719</td>\n",
       "      <td>{'retweet_count': 63, 'reply_count': 0, 'like_...</td>\n",
       "      <td>1450969840617869313</td>\n",
       "      <td>RT @the_stylophone: THE BEATLES playing the St...</td>\n",
       "      <td>2021-10-20T23:39:02.000Z</td>\n",
       "      <td>en</td>\n",
       "      <td>NaN</td>\n",
       "    </tr>\n",
       "    <tr>\n",
       "      <th>7</th>\n",
       "      <td>133131352</td>\n",
       "      <td>{'retweet_count': 4, 'reply_count': 0, 'like_c...</td>\n",
       "      <td>1450969603673362443</td>\n",
       "      <td>RT @BeatlesArchive2: John Lennon (+ George)\\nT...</td>\n",
       "      <td>2021-10-20T23:38:05.000Z</td>\n",
       "      <td>en</td>\n",
       "      <td>NaN</td>\n",
       "    </tr>\n",
       "    <tr>\n",
       "      <th>8</th>\n",
       "      <td>987106751227936768</td>\n",
       "      <td>{'retweet_count': 16, 'reply_count': 0, 'like_...</td>\n",
       "      <td>1450969488107655172</td>\n",
       "      <td>RT @TheBeatlesPix: The #Beatles July 10 1964 a...</td>\n",
       "      <td>2021-10-20T23:37:38.000Z</td>\n",
       "      <td>en</td>\n",
       "      <td>NaN</td>\n",
       "    </tr>\n",
       "    <tr>\n",
       "      <th>9</th>\n",
       "      <td>814919222690201601</td>\n",
       "      <td>{'retweet_count': 16, 'reply_count': 0, 'like_...</td>\n",
       "      <td>1450969230812319749</td>\n",
       "      <td>RT @TheBeatlesPix: The #Beatles July 10 1964 a...</td>\n",
       "      <td>2021-10-20T23:36:36.000Z</td>\n",
       "      <td>en</td>\n",
       "      <td>NaN</td>\n",
       "    </tr>\n",
       "  </tbody>\n",
       "</table>\n",
       "</div>"
      ],
      "text/plain": [
       "             author_id                                     public_metrics  \\\n",
       "1   922987038063828992  {'retweet_count': 1, 'reply_count': 0, 'like_c...   \n",
       "2   922987038063828992  {'retweet_count': 1, 'reply_count': 0, 'like_c...   \n",
       "3   922987038063828992  {'retweet_count': 1, 'reply_count': 0, 'like_c...   \n",
       "4   922987038063828992  {'retweet_count': 1, 'reply_count': 0, 'like_c...   \n",
       "5  1078805978731237376  {'retweet_count': 2, 'reply_count': 0, 'like_c...   \n",
       "6            146676719  {'retweet_count': 63, 'reply_count': 0, 'like_...   \n",
       "7            133131352  {'retweet_count': 4, 'reply_count': 0, 'like_c...   \n",
       "8   987106751227936768  {'retweet_count': 16, 'reply_count': 0, 'like_...   \n",
       "9   814919222690201601  {'retweet_count': 16, 'reply_count': 0, 'like_...   \n",
       "\n",
       "                    id                                               text  \\\n",
       "1  1450970171976261634  RT @izumiman1961: THE #BEATLES https://t.co/GT...   \n",
       "2  1450970113260150788  RT @izumiman1961: THE #BEATLES https://t.co/hK...   \n",
       "3  1450970065403219968  RT @izumiman1961: THE #BEATLES https://t.co/Uw...   \n",
       "4  1450969987481423876  RT @izumiman1961: #JamesMcCartney #DhaniHarris...   \n",
       "5  1450969866752696320  RT @planet_beatles: Fact or Fiction? Ringo fir...   \n",
       "6  1450969840617869313  RT @the_stylophone: THE BEATLES playing the St...   \n",
       "7  1450969603673362443  RT @BeatlesArchive2: John Lennon (+ George)\\nT...   \n",
       "8  1450969488107655172  RT @TheBeatlesPix: The #Beatles July 10 1964 a...   \n",
       "9  1450969230812319749  RT @TheBeatlesPix: The #Beatles July 10 1964 a...   \n",
       "\n",
       "                 created_at lang  geo  \n",
       "1  2021-10-20T23:40:21.000Z  und  NaN  \n",
       "2  2021-10-20T23:40:07.000Z  und  NaN  \n",
       "3  2021-10-20T23:39:55.000Z  und  NaN  \n",
       "4  2021-10-20T23:39:37.000Z  und  NaN  \n",
       "5  2021-10-20T23:39:08.000Z   en  NaN  \n",
       "6  2021-10-20T23:39:02.000Z   en  NaN  \n",
       "7  2021-10-20T23:38:05.000Z   en  NaN  \n",
       "8  2021-10-20T23:37:38.000Z   en  NaN  \n",
       "9  2021-10-20T23:36:36.000Z   en  NaN  "
      ]
     },
     "execution_count": 235,
     "metadata": {},
     "output_type": "execute_result"
    }
   ],
   "source": [
    "finalDataframe[1:10]"
   ]
  },
  {
   "cell_type": "markdown",
   "id": "5071e9fe",
   "metadata": {},
   "source": [
    "Exporting the data to a CSV file"
   ]
  },
  {
   "cell_type": "code",
   "execution_count": 229,
   "id": "f887a0bb",
   "metadata": {},
   "outputs": [],
   "source": [
    "finalDataframe.to_csv(r\"C:\\Users\\kathm\\EMAT22110\\twitterData.csv\")"
   ]
  },
  {
   "cell_type": "markdown",
   "id": "550b09b6",
   "metadata": {},
   "source": [
    "## Conclusions\n",
    "\n",
    "### Quality of data / weaknesses and limitations\n",
    "- I believe the quality of this data may not be exactly what this project was intended for, but I found it fascinating that so many people were still interested in the Beatles. I thought it would be interesting to collect data on where people were tweeting from, so I added the \"geo.place_id\" field. This ended up going poorly because there were less than 10 tweets that actually had a value for this field. I think if I were to sample more than 300 tweets there might be more geo tags, but I also think the topic of the Beatles doesn't exactly warrant a geo tag. Something like tweets about a tour might have more tweets that tag location to follow the band across a country or around the world.\n",
    "\n",
    "### Alternate approaches / next steps\n",
    "- Because I wasn't able to find an album released right now that I cared about, I decided to use the Beatles because they were releasing a new album, which is a new version of their album \"Let It Be\", which has more than the number of tweets I was looking for. If there were more albums coming out or a new single were trending I think the results would be more directed towards the release, not just general tweets about the Beatles. I think I need to find a more specific research question or research a certain artist and how their music has trended over time. "
   ]
  }
 ],
 "metadata": {
  "kernelspec": {
   "display_name": "Python 3 (ipykernel)",
   "language": "python",
   "name": "python3"
  },
  "language_info": {
   "codemirror_mode": {
    "name": "ipython",
    "version": 3
   },
   "file_extension": ".py",
   "mimetype": "text/x-python",
   "name": "python",
   "nbconvert_exporter": "python",
   "pygments_lexer": "ipython3",
   "version": "3.9.6"
  }
 },
 "nbformat": 4,
 "nbformat_minor": 5
}
