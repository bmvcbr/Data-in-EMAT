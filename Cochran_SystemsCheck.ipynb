{
 "cells": [
  {
   "cell_type": "markdown",
   "id": "e39520f4",
   "metadata": {},
   "source": [
    "![](https://earthsky.org/upl/2021/06/PETER-FORISTER-VIRGINIA-ANDROMEDA-GALAXY.jpeg)"
   ]
  },
  {
   "cell_type": "markdown",
   "id": "a8f09afa",
   "metadata": {},
   "source": [
    "# Systems Check Assignment"
   ]
  },
  {
   "cell_type": "markdown",
   "id": "708b7d05",
   "metadata": {},
   "source": [
    "## Kaitlin Cochran"
   ]
  },
  {
   "cell_type": "markdown",
   "id": "9d642774",
   "metadata": {},
   "source": [
    "### In this course, I hope to learn more about data and how it can be used in today's world."
   ]
  },
  {
   "cell_type": "markdown",
   "id": "7863edae",
   "metadata": {},
   "source": [
    "#### *I also hope to learn if I would be interested in doing data analysis as a career after I graduate*"
   ]
  },
  {
   "cell_type": "markdown",
   "id": "930cd1e6",
   "metadata": {},
   "source": [
    "I already have experience in:\n",
    "\n",
    "1. Python\n",
    "2. R\n",
    "3. Object-Oriented Programming\n",
    "\n",
    "that I hope will help with my understanding of the things we do in this class."
   ]
  },
  {
   "cell_type": "markdown",
   "id": "9d556f1b",
   "metadata": {},
   "source": [
    "#### Variable Assignment"
   ]
  },
  {
   "cell_type": "code",
   "execution_count": 1,
   "id": "0a604bbd",
   "metadata": {},
   "outputs": [],
   "source": [
    "x = 3"
   ]
  },
  {
   "cell_type": "markdown",
   "id": "dec2f8e3",
   "metadata": {},
   "source": [
    "#### For loop"
   ]
  },
  {
   "cell_type": "code",
   "execution_count": 2,
   "id": "714b0c99",
   "metadata": {},
   "outputs": [
    {
     "name": "stdout",
     "output_type": "stream",
     "text": [
      "5\n",
      "7\n",
      "9\n",
      "11\n",
      "13\n"
     ]
    }
   ],
   "source": [
    "x = [1, 2, 3, 4, 5] \n",
    "for n in x:\n",
    "    print((n * 2) + 3)"
   ]
  },
  {
   "cell_type": "markdown",
   "id": "5488e260",
   "metadata": {},
   "source": [
    "#### Print Statement"
   ]
  },
  {
   "cell_type": "code",
   "execution_count": 3,
   "id": "a186930a",
   "metadata": {},
   "outputs": [
    {
     "name": "stdout",
     "output_type": "stream",
     "text": [
      "Hello World!\n"
     ]
    }
   ],
   "source": [
    "print(\"Hello World!\")"
   ]
  },
  {
   "cell_type": "markdown",
   "id": "6c6602d0",
   "metadata": {},
   "source": [
    "#### Return Statement"
   ]
  },
  {
   "cell_type": "code",
   "execution_count": 7,
   "id": "32f5bfca",
   "metadata": {},
   "outputs": [
    {
     "name": "stdout",
     "output_type": "stream",
     "text": [
      "13\n"
     ]
    }
   ],
   "source": [
    "def addition(num):\n",
    "    return num + 8\n",
    "\n",
    "x = addition(5)\n",
    "print(x)"
   ]
  }
 ],
 "metadata": {
  "kernelspec": {
   "display_name": "Python 3 (ipykernel)",
   "language": "python",
   "name": "python3"
  },
  "language_info": {
   "codemirror_mode": {
    "name": "ipython",
    "version": 3
   },
   "file_extension": ".py",
   "mimetype": "text/x-python",
   "name": "python",
   "nbconvert_exporter": "python",
   "pygments_lexer": "ipython3",
   "version": "3.9.6"
  }
 },
 "nbformat": 4,
 "nbformat_minor": 5
}
