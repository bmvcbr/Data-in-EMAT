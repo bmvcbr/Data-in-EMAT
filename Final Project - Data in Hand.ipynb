{
 "cells": [
  {
   "cell_type": "markdown",
   "id": "00f8f8a8",
   "metadata": {},
   "source": [
    "# Final Project - Data in Hand\n",
    "### Kaitlin Cochran\n",
    "\n",
    "For my final project, I wish to explore if variables created by Spotify for a track (i.e. danceability, key, etc.) have an impact on how popular the track is. To do this, I pulled songs from the Top Songs USA playlist on Spotify. I may have to pull in other playlists to make the data more reliable, but I decided to start small. I also will need to pick a song to compare to this data that is relatively new, which I will do at the time of the Analysis Plan or Preliminary Draft stage so that I get the most accurate data. I will also probably rerun the code below to get more accurate songs on the Top Songs USA playlist. Below is the code I used to query the Tracks API and Playlist API from Spotify."
   ]
  },
  {
   "cell_type": "markdown",
   "id": "245f15c5",
   "metadata": {},
   "source": [
    "Import statements for the libraries I will be using."
   ]
  },
  {
   "cell_type": "code",
   "execution_count": 1,
   "id": "dc7f1df8",
   "metadata": {},
   "outputs": [],
   "source": [
    "import pandas as pd\n",
    "import requests\n",
    "import base64\n",
    "import json"
   ]
  },
  {
   "cell_type": "markdown",
   "id": "330e0852",
   "metadata": {},
   "source": [
    "Reading in my tokens for a new application on the Spotify developer website."
   ]
  },
  {
   "cell_type": "code",
   "execution_count": 2,
   "id": "66ba739b",
   "metadata": {},
   "outputs": [],
   "source": [
    "tokens = pd.read_csv('keys.txt', sep = '\\t', header = None).T\n",
    "tokens.columns = tokens.iloc[0]"
   ]
  },
  {
   "cell_type": "markdown",
   "id": "ec9d3db8",
   "metadata": {},
   "source": [
    "Formatting the tokens file so it can be read by functions later on."
   ]
  },
  {
   "cell_type": "code",
   "execution_count": 5,
   "id": "82a1361d",
   "metadata": {},
   "outputs": [],
   "source": [
    "tokens = tokens[1:]"
   ]
  },
  {
   "cell_type": "markdown",
   "id": "fdf4674d",
   "metadata": {},
   "source": [
    "A function we made together in class which creates a session header to use to connect to the client."
   ]
  },
  {
   "cell_type": "code",
   "execution_count": 7,
   "id": "4a00377c",
   "metadata": {},
   "outputs": [],
   "source": [
    "def start_session_headers(client_id, client_secret):\n",
    "    client_cred = base64.b64encode(str(client_id + \":\" + client_secret).encode('ascii'))\n",
    "    header = {'Authorization': 'Basic %s' % (client_cred.decode('ascii'))}\n",
    "    return header"
   ]
  },
  {
   "cell_type": "markdown",
   "id": "f25ec5da",
   "metadata": {},
   "source": [
    "A function we made together in class which connects to the client using the URL and header."
   ]
  },
  {
   "cell_type": "code",
   "execution_count": 8,
   "id": "a9302b6d",
   "metadata": {},
   "outputs": [],
   "source": [
    "def connect_to_client_cred(url, header):\n",
    "        payload = {'grant_type' : 'client_credentials'}\n",
    "        response = requests.request(\"POST\", url, headers = header, data = payload )\n",
    "        print(response.status_code)\n",
    "        if response.status_code != 200:\n",
    "            raise Exception(response.status_code, response.text)\n",
    "        return response.json()"
   ]
  },
  {
   "cell_type": "markdown",
   "id": "d6da8918",
   "metadata": {},
   "source": [
    "A function we made together in class which gets an access token using both of the above methods in order to query specific Spotify APIs."
   ]
  },
  {
   "cell_type": "code",
   "execution_count": 9,
   "id": "f25c6bf0",
   "metadata": {},
   "outputs": [],
   "source": [
    "def get_access_token(client_id, client_secret):\n",
    "    url = \"https://accounts.spotify.com/api/token\"\n",
    "    header = start_session_headers(client_id, client_secret)\n",
    "    json_response = connect_to_client_cred(url, header)\n",
    "    return json_response"
   ]
  },
  {
   "cell_type": "markdown",
   "id": "1bd16fcd",
   "metadata": {},
   "source": [
    "Acquiring the session token."
   ]
  },
  {
   "cell_type": "code",
   "execution_count": 10,
   "id": "78b3a245",
   "metadata": {},
   "outputs": [
    {
     "name": "stdout",
     "output_type": "stream",
     "text": [
      "200\n"
     ]
    }
   ],
   "source": [
    "session_token = get_access_token(tokens['clientID'].iloc[0], tokens['clientSecret'].iloc[0])"
   ]
  },
  {
   "cell_type": "markdown",
   "id": "ef793b1c",
   "metadata": {},
   "source": [
    "A function we made in class that creates a header to query Spotify APIs."
   ]
  },
  {
   "cell_type": "code",
   "execution_count": 17,
   "id": "3ab5ec82",
   "metadata": {},
   "outputs": [],
   "source": [
    "def create_header(session_token):\n",
    "    headers = {\"Authorization\": \"Bearer {}\".format(session_token)}\n",
    "    return headers"
   ]
  },
  {
   "cell_type": "markdown",
   "id": "c96d10b2",
   "metadata": {},
   "source": [
    "A function we made in class that connects to a specific Spotify endpoint to gather specific data through a GET request."
   ]
  },
  {
   "cell_type": "code",
   "execution_count": 18,
   "id": "cdce39ed",
   "metadata": {},
   "outputs": [],
   "source": [
    "def connect_to_endpoint(url, headers):\n",
    "    response = requests.request(\"GET\", url, headers = headers)\n",
    "    print(response.status_code)\n",
    "    if response.status_code != 200:\n",
    "        raise Exception(response.status_code, response.text)\n",
    "    return response.json()"
   ]
  },
  {
   "cell_type": "markdown",
   "id": "54cd9f08",
   "metadata": {},
   "source": [
    "A function I created to gather information about a Spotify playlist through the playlist id, found on Spotify."
   ]
  },
  {
   "cell_type": "code",
   "execution_count": 26,
   "id": "37ca4bbb",
   "metadata": {},
   "outputs": [],
   "source": [
    "def get_a_playlist(playlist_id):\n",
    "    url = 'https://api.spotify.com/v1/playlists/{}/tracks'.format(playlist_id)\n",
    "    header = create_header(session_token['access_token'])\n",
    "    json_response = connect_to_endpoint(url, header)\n",
    "    return json_response"
   ]
  },
  {
   "cell_type": "markdown",
   "id": "8e9f624b",
   "metadata": {},
   "source": [
    "A function we created in class to get information about a track on Spotify through the track id, found on Spotify."
   ]
  },
  {
   "cell_type": "code",
   "execution_count": 53,
   "id": "e813d1a4",
   "metadata": {},
   "outputs": [],
   "source": [
    "def get_a_track(track_id):\n",
    "    url = 'https://api.spotify.com/v1/tracks/{}'.format(track_id)\n",
    "    header = create_header(session_token['access_token'])\n",
    "    json_response = connect_to_endpoint(url, header)\n",
    "    return json_response"
   ]
  },
  {
   "cell_type": "markdown",
   "id": "f6c058c7",
   "metadata": {},
   "source": [
    "A function we created in class to get Spotify-created variables about tracks through the track id, found on Spotify."
   ]
  },
  {
   "cell_type": "code",
   "execution_count": 54,
   "id": "5ab3394d",
   "metadata": {},
   "outputs": [],
   "source": [
    "def track_audio_features(track_id):\n",
    "    url = 'https://api.spotify.com/v1/audio-features/{}'.format(track_id)\n",
    "    header = create_header(session_token['access_token'])\n",
    "    json_response = connect_to_endpoint(url, header)\n",
    "    return json_response"
   ]
  },
  {
   "cell_type": "markdown",
   "id": "f6024c24",
   "metadata": {},
   "source": [
    "Querying the Playlist API using the playlist id for the Top Songs USA playlist."
   ]
  },
  {
   "cell_type": "code",
   "execution_count": 27,
   "id": "b796505e",
   "metadata": {
    "scrolled": true
   },
   "outputs": [
    {
     "name": "stdout",
     "output_type": "stream",
     "text": [
      "200\n"
     ]
    }
   ],
   "source": [
    "playlist = get_a_playlist('37i9dQZEVXbLp5XoPON0wI')"
   ]
  },
  {
   "cell_type": "markdown",
   "id": "97f1c938",
   "metadata": {},
   "source": [
    "Looking at the keys from the response to make a decision on what to use to make a helpful Data Frame."
   ]
  },
  {
   "cell_type": "code",
   "execution_count": 48,
   "id": "225d8d20",
   "metadata": {
    "scrolled": true
   },
   "outputs": [
    {
     "data": {
      "text/plain": [
       "dict_keys(['href', 'items', 'limit', 'next', 'offset', 'previous', 'total'])"
      ]
     },
     "execution_count": 48,
     "metadata": {},
     "output_type": "execute_result"
    }
   ],
   "source": [
    "playlist.keys()"
   ]
  },
  {
   "cell_type": "markdown",
   "id": "bdc2c111",
   "metadata": {},
   "source": [
    "Getting the first item in the response."
   ]
  },
  {
   "cell_type": "code",
   "execution_count": null,
   "id": "1a74f2dd",
   "metadata": {},
   "outputs": [],
   "source": [
    "playlist['items'][0]"
   ]
  },
  {
   "cell_type": "markdown",
   "id": "3f014b53",
   "metadata": {},
   "source": [
    "Getting the track id for the first item in the response."
   ]
  },
  {
   "cell_type": "code",
   "execution_count": 78,
   "id": "62333563",
   "metadata": {},
   "outputs": [
    {
     "data": {
      "text/plain": [
       "'46IZ0fSY2mpAiktS3KOqds'"
      ]
     },
     "execution_count": 78,
     "metadata": {},
     "output_type": "execute_result"
    }
   ],
   "source": [
    "playlist['items'][0]['track']['id']"
   ]
  },
  {
   "cell_type": "markdown",
   "id": "6ba93f10",
   "metadata": {},
   "source": [
    "Getting the track name for the first item in the response."
   ]
  },
  {
   "cell_type": "code",
   "execution_count": 61,
   "id": "5c993472",
   "metadata": {},
   "outputs": [
    {
     "data": {
      "text/plain": [
       "'Easy On Me'"
      ]
     },
     "execution_count": 61,
     "metadata": {},
     "output_type": "execute_result"
    }
   ],
   "source": [
    "playlist['items'][0]['track']['name']"
   ]
  },
  {
   "cell_type": "markdown",
   "id": "5413a591",
   "metadata": {},
   "source": [
    "Getting all track ids from the response."
   ]
  },
  {
   "cell_type": "code",
   "execution_count": 51,
   "id": "fdaa369d",
   "metadata": {},
   "outputs": [],
   "source": [
    "tracks = [x['track']['id'] for x in playlist['items']]"
   ]
  },
  {
   "cell_type": "markdown",
   "id": "d15369aa",
   "metadata": {},
   "source": [
    "Getting all track names from the response."
   ]
  },
  {
   "cell_type": "code",
   "execution_count": 60,
   "id": "a07e6f20",
   "metadata": {},
   "outputs": [],
   "source": [
    "trackNames = [x['track']['name'] for x in playlist['items']]"
   ]
  },
  {
   "cell_type": "markdown",
   "id": "29210e39",
   "metadata": {},
   "source": [
    "Getting audio feature information for all songs in the Top Songs USA playlist."
   ]
  },
  {
   "cell_type": "code",
   "execution_count": null,
   "id": "9b0d7062",
   "metadata": {},
   "outputs": [],
   "source": [
    "trackInfo = [track_audio_features(x) for x in tracks]"
   ]
  },
  {
   "cell_type": "markdown",
   "id": "88afb35b",
   "metadata": {},
   "source": [
    "Creating a Data Frame from the response from the Audio Features API."
   ]
  },
  {
   "cell_type": "code",
   "execution_count": 57,
   "id": "7336e31b",
   "metadata": {},
   "outputs": [],
   "source": [
    "tracksDf = pd.DataFrame(trackInfo)"
   ]
  },
  {
   "cell_type": "markdown",
   "id": "d3379b90",
   "metadata": {},
   "source": [
    "The data frame from the Audio Features API."
   ]
  },
  {
   "cell_type": "code",
   "execution_count": 58,
   "id": "35bf0755",
   "metadata": {
    "scrolled": false
   },
   "outputs": [
    {
     "data": {
      "text/html": [
       "<div>\n",
       "<style scoped>\n",
       "    .dataframe tbody tr th:only-of-type {\n",
       "        vertical-align: middle;\n",
       "    }\n",
       "\n",
       "    .dataframe tbody tr th {\n",
       "        vertical-align: top;\n",
       "    }\n",
       "\n",
       "    .dataframe thead th {\n",
       "        text-align: right;\n",
       "    }\n",
       "</style>\n",
       "<table border=\"1\" class=\"dataframe\">\n",
       "  <thead>\n",
       "    <tr style=\"text-align: right;\">\n",
       "      <th></th>\n",
       "      <th>danceability</th>\n",
       "      <th>energy</th>\n",
       "      <th>key</th>\n",
       "      <th>loudness</th>\n",
       "      <th>mode</th>\n",
       "      <th>speechiness</th>\n",
       "      <th>acousticness</th>\n",
       "      <th>instrumentalness</th>\n",
       "      <th>liveness</th>\n",
       "      <th>valence</th>\n",
       "      <th>tempo</th>\n",
       "      <th>type</th>\n",
       "      <th>id</th>\n",
       "      <th>uri</th>\n",
       "      <th>track_href</th>\n",
       "      <th>analysis_url</th>\n",
       "      <th>duration_ms</th>\n",
       "      <th>time_signature</th>\n",
       "    </tr>\n",
       "  </thead>\n",
       "  <tbody>\n",
       "    <tr>\n",
       "      <th>0</th>\n",
       "      <td>0.604</td>\n",
       "      <td>0.366</td>\n",
       "      <td>5</td>\n",
       "      <td>-7.519</td>\n",
       "      <td>1</td>\n",
       "      <td>0.0282</td>\n",
       "      <td>0.5780</td>\n",
       "      <td>0.0</td>\n",
       "      <td>0.1330</td>\n",
       "      <td>0.130</td>\n",
       "      <td>141.981</td>\n",
       "      <td>audio_features</td>\n",
       "      <td>46IZ0fSY2mpAiktS3KOqds</td>\n",
       "      <td>spotify:track:46IZ0fSY2mpAiktS3KOqds</td>\n",
       "      <td>https://api.spotify.com/v1/tracks/46IZ0fSY2mpA...</td>\n",
       "      <td>https://api.spotify.com/v1/audio-analysis/46IZ...</td>\n",
       "      <td>224695</td>\n",
       "      <td>4</td>\n",
       "    </tr>\n",
       "    <tr>\n",
       "      <th>1</th>\n",
       "      <td>0.631</td>\n",
       "      <td>0.518</td>\n",
       "      <td>0</td>\n",
       "      <td>-8.771</td>\n",
       "      <td>1</td>\n",
       "      <td>0.0303</td>\n",
       "      <td>0.2740</td>\n",
       "      <td>0.0</td>\n",
       "      <td>0.0880</td>\n",
       "      <td>0.205</td>\n",
       "      <td>93.023</td>\n",
       "      <td>audio_features</td>\n",
       "      <td>5enxwA8aAbwZbf5qCHORXi</td>\n",
       "      <td>spotify:track:5enxwA8aAbwZbf5qCHORXi</td>\n",
       "      <td>https://api.spotify.com/v1/tracks/5enxwA8aAbwZ...</td>\n",
       "      <td>https://api.spotify.com/v1/audio-analysis/5enx...</td>\n",
       "      <td>613027</td>\n",
       "      <td>4</td>\n",
       "    </tr>\n",
       "    <tr>\n",
       "      <th>2</th>\n",
       "      <td>0.534</td>\n",
       "      <td>0.725</td>\n",
       "      <td>1</td>\n",
       "      <td>-3.906</td>\n",
       "      <td>1</td>\n",
       "      <td>0.0460</td>\n",
       "      <td>0.0910</td>\n",
       "      <td>0.0</td>\n",
       "      <td>0.0264</td>\n",
       "      <td>0.550</td>\n",
       "      <td>88.098</td>\n",
       "      <td>audio_features</td>\n",
       "      <td>3Kkjo3cT83cw09VJyrLNwX</td>\n",
       "      <td>spotify:track:3Kkjo3cT83cw09VJyrLNwX</td>\n",
       "      <td>https://api.spotify.com/v1/tracks/3Kkjo3cT83cw...</td>\n",
       "      <td>https://api.spotify.com/v1/audio-analysis/3Kkj...</td>\n",
       "      <td>225149</td>\n",
       "      <td>4</td>\n",
       "    </tr>\n",
       "    <tr>\n",
       "      <th>3</th>\n",
       "      <td>0.741</td>\n",
       "      <td>0.691</td>\n",
       "      <td>10</td>\n",
       "      <td>-7.395</td>\n",
       "      <td>0</td>\n",
       "      <td>0.0672</td>\n",
       "      <td>0.0221</td>\n",
       "      <td>0.0</td>\n",
       "      <td>0.0476</td>\n",
       "      <td>0.892</td>\n",
       "      <td>150.087</td>\n",
       "      <td>audio_features</td>\n",
       "      <td>5Z9KJZvQzH6PFmb8SNkxuk</td>\n",
       "      <td>spotify:track:5Z9KJZvQzH6PFmb8SNkxuk</td>\n",
       "      <td>https://api.spotify.com/v1/tracks/5Z9KJZvQzH6P...</td>\n",
       "      <td>https://api.spotify.com/v1/audio-analysis/5Z9K...</td>\n",
       "      <td>212353</td>\n",
       "      <td>4</td>\n",
       "    </tr>\n",
       "    <tr>\n",
       "      <th>4</th>\n",
       "      <td>0.703</td>\n",
       "      <td>0.680</td>\n",
       "      <td>9</td>\n",
       "      <td>-6.118</td>\n",
       "      <td>0</td>\n",
       "      <td>0.0431</td>\n",
       "      <td>0.0171</td>\n",
       "      <td>0.0</td>\n",
       "      <td>0.1780</td>\n",
       "      <td>0.536</td>\n",
       "      <td>97.985</td>\n",
       "      <td>audio_features</td>\n",
       "      <td>6w8ZPYdnGajyfPddTWdthN</td>\n",
       "      <td>spotify:track:6w8ZPYdnGajyfPddTWdthN</td>\n",
       "      <td>https://api.spotify.com/v1/tracks/6w8ZPYdnGajy...</td>\n",
       "      <td>https://api.spotify.com/v1/audio-analysis/6w8Z...</td>\n",
       "      <td>210384</td>\n",
       "      <td>4</td>\n",
       "    </tr>\n",
       "  </tbody>\n",
       "</table>\n",
       "</div>"
      ],
      "text/plain": [
       "   danceability  energy  key  loudness  mode  speechiness  acousticness  \\\n",
       "0         0.604   0.366    5    -7.519     1       0.0282        0.5780   \n",
       "1         0.631   0.518    0    -8.771     1       0.0303        0.2740   \n",
       "2         0.534   0.725    1    -3.906     1       0.0460        0.0910   \n",
       "3         0.741   0.691   10    -7.395     0       0.0672        0.0221   \n",
       "4         0.703   0.680    9    -6.118     0       0.0431        0.0171   \n",
       "\n",
       "   instrumentalness  liveness  valence    tempo            type  \\\n",
       "0               0.0    0.1330    0.130  141.981  audio_features   \n",
       "1               0.0    0.0880    0.205   93.023  audio_features   \n",
       "2               0.0    0.0264    0.550   88.098  audio_features   \n",
       "3               0.0    0.0476    0.892  150.087  audio_features   \n",
       "4               0.0    0.1780    0.536   97.985  audio_features   \n",
       "\n",
       "                       id                                   uri  \\\n",
       "0  46IZ0fSY2mpAiktS3KOqds  spotify:track:46IZ0fSY2mpAiktS3KOqds   \n",
       "1  5enxwA8aAbwZbf5qCHORXi  spotify:track:5enxwA8aAbwZbf5qCHORXi   \n",
       "2  3Kkjo3cT83cw09VJyrLNwX  spotify:track:3Kkjo3cT83cw09VJyrLNwX   \n",
       "3  5Z9KJZvQzH6PFmb8SNkxuk  spotify:track:5Z9KJZvQzH6PFmb8SNkxuk   \n",
       "4  6w8ZPYdnGajyfPddTWdthN  spotify:track:6w8ZPYdnGajyfPddTWdthN   \n",
       "\n",
       "                                          track_href  \\\n",
       "0  https://api.spotify.com/v1/tracks/46IZ0fSY2mpA...   \n",
       "1  https://api.spotify.com/v1/tracks/5enxwA8aAbwZ...   \n",
       "2  https://api.spotify.com/v1/tracks/3Kkjo3cT83cw...   \n",
       "3  https://api.spotify.com/v1/tracks/5Z9KJZvQzH6P...   \n",
       "4  https://api.spotify.com/v1/tracks/6w8ZPYdnGajy...   \n",
       "\n",
       "                                        analysis_url  duration_ms  \\\n",
       "0  https://api.spotify.com/v1/audio-analysis/46IZ...       224695   \n",
       "1  https://api.spotify.com/v1/audio-analysis/5enx...       613027   \n",
       "2  https://api.spotify.com/v1/audio-analysis/3Kkj...       225149   \n",
       "3  https://api.spotify.com/v1/audio-analysis/5Z9K...       212353   \n",
       "4  https://api.spotify.com/v1/audio-analysis/6w8Z...       210384   \n",
       "\n",
       "   time_signature  \n",
       "0               4  \n",
       "1               4  \n",
       "2               4  \n",
       "3               4  \n",
       "4               4  "
      ]
     },
     "execution_count": 58,
     "metadata": {},
     "output_type": "execute_result"
    }
   ],
   "source": [
    "tracksDf.head()"
   ]
  },
  {
   "cell_type": "markdown",
   "id": "f1f0f716",
   "metadata": {},
   "source": [
    "Creating a Data Frame using the track ids and names obtained earlier."
   ]
  },
  {
   "cell_type": "code",
   "execution_count": 68,
   "id": "0ce7e931",
   "metadata": {},
   "outputs": [],
   "source": [
    "trackNamesDf = pd.DataFrame({'id': tracks, 'name': trackNames})"
   ]
  },
  {
   "cell_type": "markdown",
   "id": "7ef60fa1",
   "metadata": {},
   "source": [
    "The resulting Data Frame."
   ]
  },
  {
   "cell_type": "code",
   "execution_count": 69,
   "id": "264b9e60",
   "metadata": {},
   "outputs": [
    {
     "data": {
      "text/html": [
       "<div>\n",
       "<style scoped>\n",
       "    .dataframe tbody tr th:only-of-type {\n",
       "        vertical-align: middle;\n",
       "    }\n",
       "\n",
       "    .dataframe tbody tr th {\n",
       "        vertical-align: top;\n",
       "    }\n",
       "\n",
       "    .dataframe thead th {\n",
       "        text-align: right;\n",
       "    }\n",
       "</style>\n",
       "<table border=\"1\" class=\"dataframe\">\n",
       "  <thead>\n",
       "    <tr style=\"text-align: right;\">\n",
       "      <th></th>\n",
       "      <th>id</th>\n",
       "      <th>name</th>\n",
       "    </tr>\n",
       "  </thead>\n",
       "  <tbody>\n",
       "    <tr>\n",
       "      <th>0</th>\n",
       "      <td>46IZ0fSY2mpAiktS3KOqds</td>\n",
       "      <td>Easy On Me</td>\n",
       "    </tr>\n",
       "    <tr>\n",
       "      <th>1</th>\n",
       "      <td>5enxwA8aAbwZbf5qCHORXi</td>\n",
       "      <td>All Too Well (10 Minute Version) (Taylor's Ver...</td>\n",
       "    </tr>\n",
       "    <tr>\n",
       "      <th>2</th>\n",
       "      <td>3Kkjo3cT83cw09VJyrLNwX</td>\n",
       "      <td>Oh My God</td>\n",
       "    </tr>\n",
       "    <tr>\n",
       "      <th>3</th>\n",
       "      <td>5Z9KJZvQzH6PFmb8SNkxuk</td>\n",
       "      <td>INDUSTRY BABY (feat. Jack Harlow)</td>\n",
       "    </tr>\n",
       "    <tr>\n",
       "      <th>4</th>\n",
       "      <td>6w8ZPYdnGajyfPddTWdthN</td>\n",
       "      <td>Can I Get It</td>\n",
       "    </tr>\n",
       "  </tbody>\n",
       "</table>\n",
       "</div>"
      ],
      "text/plain": [
       "                       id                                               name\n",
       "0  46IZ0fSY2mpAiktS3KOqds                                         Easy On Me\n",
       "1  5enxwA8aAbwZbf5qCHORXi  All Too Well (10 Minute Version) (Taylor's Ver...\n",
       "2  3Kkjo3cT83cw09VJyrLNwX                                          Oh My God\n",
       "3  5Z9KJZvQzH6PFmb8SNkxuk                  INDUSTRY BABY (feat. Jack Harlow)\n",
       "4  6w8ZPYdnGajyfPddTWdthN                                       Can I Get It"
      ]
     },
     "execution_count": 69,
     "metadata": {},
     "output_type": "execute_result"
    }
   ],
   "source": [
    "trackNamesDf.head()"
   ]
  },
  {
   "cell_type": "markdown",
   "id": "32df1947",
   "metadata": {},
   "source": [
    "Creating the final data frame for this playlist, which combines the above Data Frame of ids and names with the original Data Frame containing audio track information."
   ]
  },
  {
   "cell_type": "code",
   "execution_count": 74,
   "id": "d6a9d490",
   "metadata": {},
   "outputs": [],
   "source": [
    "finalDf = pd.merge(tracksDf, trackNamesDf, left_on = \"id\", right_on = 'id', how = 'left')"
   ]
  },
  {
   "cell_type": "markdown",
   "id": "bbf4a710",
   "metadata": {},
   "source": [
    "The resulting Data Frame."
   ]
  },
  {
   "cell_type": "code",
   "execution_count": 75,
   "id": "5c9a00ae",
   "metadata": {
    "scrolled": true
   },
   "outputs": [
    {
     "data": {
      "text/html": [
       "<div>\n",
       "<style scoped>\n",
       "    .dataframe tbody tr th:only-of-type {\n",
       "        vertical-align: middle;\n",
       "    }\n",
       "\n",
       "    .dataframe tbody tr th {\n",
       "        vertical-align: top;\n",
       "    }\n",
       "\n",
       "    .dataframe thead th {\n",
       "        text-align: right;\n",
       "    }\n",
       "</style>\n",
       "<table border=\"1\" class=\"dataframe\">\n",
       "  <thead>\n",
       "    <tr style=\"text-align: right;\">\n",
       "      <th></th>\n",
       "      <th>danceability</th>\n",
       "      <th>energy</th>\n",
       "      <th>key</th>\n",
       "      <th>loudness</th>\n",
       "      <th>mode</th>\n",
       "      <th>speechiness</th>\n",
       "      <th>acousticness</th>\n",
       "      <th>instrumentalness</th>\n",
       "      <th>liveness</th>\n",
       "      <th>valence</th>\n",
       "      <th>tempo</th>\n",
       "      <th>type</th>\n",
       "      <th>id</th>\n",
       "      <th>uri</th>\n",
       "      <th>track_href</th>\n",
       "      <th>analysis_url</th>\n",
       "      <th>duration_ms</th>\n",
       "      <th>time_signature</th>\n",
       "      <th>name</th>\n",
       "    </tr>\n",
       "  </thead>\n",
       "  <tbody>\n",
       "    <tr>\n",
       "      <th>0</th>\n",
       "      <td>0.604</td>\n",
       "      <td>0.366</td>\n",
       "      <td>5</td>\n",
       "      <td>-7.519</td>\n",
       "      <td>1</td>\n",
       "      <td>0.0282</td>\n",
       "      <td>0.5780</td>\n",
       "      <td>0.0</td>\n",
       "      <td>0.1330</td>\n",
       "      <td>0.130</td>\n",
       "      <td>141.981</td>\n",
       "      <td>audio_features</td>\n",
       "      <td>46IZ0fSY2mpAiktS3KOqds</td>\n",
       "      <td>spotify:track:46IZ0fSY2mpAiktS3KOqds</td>\n",
       "      <td>https://api.spotify.com/v1/tracks/46IZ0fSY2mpA...</td>\n",
       "      <td>https://api.spotify.com/v1/audio-analysis/46IZ...</td>\n",
       "      <td>224695</td>\n",
       "      <td>4</td>\n",
       "      <td>Easy On Me</td>\n",
       "    </tr>\n",
       "    <tr>\n",
       "      <th>1</th>\n",
       "      <td>0.631</td>\n",
       "      <td>0.518</td>\n",
       "      <td>0</td>\n",
       "      <td>-8.771</td>\n",
       "      <td>1</td>\n",
       "      <td>0.0303</td>\n",
       "      <td>0.2740</td>\n",
       "      <td>0.0</td>\n",
       "      <td>0.0880</td>\n",
       "      <td>0.205</td>\n",
       "      <td>93.023</td>\n",
       "      <td>audio_features</td>\n",
       "      <td>5enxwA8aAbwZbf5qCHORXi</td>\n",
       "      <td>spotify:track:5enxwA8aAbwZbf5qCHORXi</td>\n",
       "      <td>https://api.spotify.com/v1/tracks/5enxwA8aAbwZ...</td>\n",
       "      <td>https://api.spotify.com/v1/audio-analysis/5enx...</td>\n",
       "      <td>613027</td>\n",
       "      <td>4</td>\n",
       "      <td>All Too Well (10 Minute Version) (Taylor's Ver...</td>\n",
       "    </tr>\n",
       "    <tr>\n",
       "      <th>2</th>\n",
       "      <td>0.534</td>\n",
       "      <td>0.725</td>\n",
       "      <td>1</td>\n",
       "      <td>-3.906</td>\n",
       "      <td>1</td>\n",
       "      <td>0.0460</td>\n",
       "      <td>0.0910</td>\n",
       "      <td>0.0</td>\n",
       "      <td>0.0264</td>\n",
       "      <td>0.550</td>\n",
       "      <td>88.098</td>\n",
       "      <td>audio_features</td>\n",
       "      <td>3Kkjo3cT83cw09VJyrLNwX</td>\n",
       "      <td>spotify:track:3Kkjo3cT83cw09VJyrLNwX</td>\n",
       "      <td>https://api.spotify.com/v1/tracks/3Kkjo3cT83cw...</td>\n",
       "      <td>https://api.spotify.com/v1/audio-analysis/3Kkj...</td>\n",
       "      <td>225149</td>\n",
       "      <td>4</td>\n",
       "      <td>Oh My God</td>\n",
       "    </tr>\n",
       "    <tr>\n",
       "      <th>3</th>\n",
       "      <td>0.741</td>\n",
       "      <td>0.691</td>\n",
       "      <td>10</td>\n",
       "      <td>-7.395</td>\n",
       "      <td>0</td>\n",
       "      <td>0.0672</td>\n",
       "      <td>0.0221</td>\n",
       "      <td>0.0</td>\n",
       "      <td>0.0476</td>\n",
       "      <td>0.892</td>\n",
       "      <td>150.087</td>\n",
       "      <td>audio_features</td>\n",
       "      <td>5Z9KJZvQzH6PFmb8SNkxuk</td>\n",
       "      <td>spotify:track:5Z9KJZvQzH6PFmb8SNkxuk</td>\n",
       "      <td>https://api.spotify.com/v1/tracks/5Z9KJZvQzH6P...</td>\n",
       "      <td>https://api.spotify.com/v1/audio-analysis/5Z9K...</td>\n",
       "      <td>212353</td>\n",
       "      <td>4</td>\n",
       "      <td>INDUSTRY BABY (feat. Jack Harlow)</td>\n",
       "    </tr>\n",
       "    <tr>\n",
       "      <th>4</th>\n",
       "      <td>0.703</td>\n",
       "      <td>0.680</td>\n",
       "      <td>9</td>\n",
       "      <td>-6.118</td>\n",
       "      <td>0</td>\n",
       "      <td>0.0431</td>\n",
       "      <td>0.0171</td>\n",
       "      <td>0.0</td>\n",
       "      <td>0.1780</td>\n",
       "      <td>0.536</td>\n",
       "      <td>97.985</td>\n",
       "      <td>audio_features</td>\n",
       "      <td>6w8ZPYdnGajyfPddTWdthN</td>\n",
       "      <td>spotify:track:6w8ZPYdnGajyfPddTWdthN</td>\n",
       "      <td>https://api.spotify.com/v1/tracks/6w8ZPYdnGajy...</td>\n",
       "      <td>https://api.spotify.com/v1/audio-analysis/6w8Z...</td>\n",
       "      <td>210384</td>\n",
       "      <td>4</td>\n",
       "      <td>Can I Get It</td>\n",
       "    </tr>\n",
       "  </tbody>\n",
       "</table>\n",
       "</div>"
      ],
      "text/plain": [
       "   danceability  energy  key  loudness  mode  speechiness  acousticness  \\\n",
       "0         0.604   0.366    5    -7.519     1       0.0282        0.5780   \n",
       "1         0.631   0.518    0    -8.771     1       0.0303        0.2740   \n",
       "2         0.534   0.725    1    -3.906     1       0.0460        0.0910   \n",
       "3         0.741   0.691   10    -7.395     0       0.0672        0.0221   \n",
       "4         0.703   0.680    9    -6.118     0       0.0431        0.0171   \n",
       "\n",
       "   instrumentalness  liveness  valence    tempo            type  \\\n",
       "0               0.0    0.1330    0.130  141.981  audio_features   \n",
       "1               0.0    0.0880    0.205   93.023  audio_features   \n",
       "2               0.0    0.0264    0.550   88.098  audio_features   \n",
       "3               0.0    0.0476    0.892  150.087  audio_features   \n",
       "4               0.0    0.1780    0.536   97.985  audio_features   \n",
       "\n",
       "                       id                                   uri  \\\n",
       "0  46IZ0fSY2mpAiktS3KOqds  spotify:track:46IZ0fSY2mpAiktS3KOqds   \n",
       "1  5enxwA8aAbwZbf5qCHORXi  spotify:track:5enxwA8aAbwZbf5qCHORXi   \n",
       "2  3Kkjo3cT83cw09VJyrLNwX  spotify:track:3Kkjo3cT83cw09VJyrLNwX   \n",
       "3  5Z9KJZvQzH6PFmb8SNkxuk  spotify:track:5Z9KJZvQzH6PFmb8SNkxuk   \n",
       "4  6w8ZPYdnGajyfPddTWdthN  spotify:track:6w8ZPYdnGajyfPddTWdthN   \n",
       "\n",
       "                                          track_href  \\\n",
       "0  https://api.spotify.com/v1/tracks/46IZ0fSY2mpA...   \n",
       "1  https://api.spotify.com/v1/tracks/5enxwA8aAbwZ...   \n",
       "2  https://api.spotify.com/v1/tracks/3Kkjo3cT83cw...   \n",
       "3  https://api.spotify.com/v1/tracks/5Z9KJZvQzH6P...   \n",
       "4  https://api.spotify.com/v1/tracks/6w8ZPYdnGajy...   \n",
       "\n",
       "                                        analysis_url  duration_ms  \\\n",
       "0  https://api.spotify.com/v1/audio-analysis/46IZ...       224695   \n",
       "1  https://api.spotify.com/v1/audio-analysis/5enx...       613027   \n",
       "2  https://api.spotify.com/v1/audio-analysis/3Kkj...       225149   \n",
       "3  https://api.spotify.com/v1/audio-analysis/5Z9K...       212353   \n",
       "4  https://api.spotify.com/v1/audio-analysis/6w8Z...       210384   \n",
       "\n",
       "   time_signature                                               name  \n",
       "0               4                                         Easy On Me  \n",
       "1               4  All Too Well (10 Minute Version) (Taylor's Ver...  \n",
       "2               4                                          Oh My God  \n",
       "3               4                  INDUSTRY BABY (feat. Jack Harlow)  \n",
       "4               4                                       Can I Get It  "
      ]
     },
     "execution_count": 75,
     "metadata": {},
     "output_type": "execute_result"
    }
   ],
   "source": [
    "finalDf.head()"
   ]
  },
  {
   "cell_type": "markdown",
   "id": "597ef5d1",
   "metadata": {},
   "source": [
    "Formatting the Data Frame so that only the information I intend to analyze is present."
   ]
  },
  {
   "cell_type": "code",
   "execution_count": 79,
   "id": "4d03481e",
   "metadata": {},
   "outputs": [
    {
     "data": {
      "text/html": [
       "<div>\n",
       "<style scoped>\n",
       "    .dataframe tbody tr th:only-of-type {\n",
       "        vertical-align: middle;\n",
       "    }\n",
       "\n",
       "    .dataframe tbody tr th {\n",
       "        vertical-align: top;\n",
       "    }\n",
       "\n",
       "    .dataframe thead th {\n",
       "        text-align: right;\n",
       "    }\n",
       "</style>\n",
       "<table border=\"1\" class=\"dataframe\">\n",
       "  <thead>\n",
       "    <tr style=\"text-align: right;\">\n",
       "      <th></th>\n",
       "      <th>danceability</th>\n",
       "      <th>energy</th>\n",
       "      <th>key</th>\n",
       "      <th>loudness</th>\n",
       "      <th>mode</th>\n",
       "      <th>speechiness</th>\n",
       "      <th>acousticness</th>\n",
       "      <th>instrumentalness</th>\n",
       "      <th>liveness</th>\n",
       "      <th>valence</th>\n",
       "      <th>tempo</th>\n",
       "      <th>id</th>\n",
       "      <th>duration_ms</th>\n",
       "      <th>time_signature</th>\n",
       "      <th>name</th>\n",
       "    </tr>\n",
       "  </thead>\n",
       "  <tbody>\n",
       "    <tr>\n",
       "      <th>0</th>\n",
       "      <td>0.604</td>\n",
       "      <td>0.366</td>\n",
       "      <td>5</td>\n",
       "      <td>-7.519</td>\n",
       "      <td>1</td>\n",
       "      <td>0.0282</td>\n",
       "      <td>0.5780</td>\n",
       "      <td>0.0</td>\n",
       "      <td>0.1330</td>\n",
       "      <td>0.130</td>\n",
       "      <td>141.981</td>\n",
       "      <td>46IZ0fSY2mpAiktS3KOqds</td>\n",
       "      <td>224695</td>\n",
       "      <td>4</td>\n",
       "      <td>Easy On Me</td>\n",
       "    </tr>\n",
       "    <tr>\n",
       "      <th>1</th>\n",
       "      <td>0.631</td>\n",
       "      <td>0.518</td>\n",
       "      <td>0</td>\n",
       "      <td>-8.771</td>\n",
       "      <td>1</td>\n",
       "      <td>0.0303</td>\n",
       "      <td>0.2740</td>\n",
       "      <td>0.0</td>\n",
       "      <td>0.0880</td>\n",
       "      <td>0.205</td>\n",
       "      <td>93.023</td>\n",
       "      <td>5enxwA8aAbwZbf5qCHORXi</td>\n",
       "      <td>613027</td>\n",
       "      <td>4</td>\n",
       "      <td>All Too Well (10 Minute Version) (Taylor's Ver...</td>\n",
       "    </tr>\n",
       "    <tr>\n",
       "      <th>2</th>\n",
       "      <td>0.534</td>\n",
       "      <td>0.725</td>\n",
       "      <td>1</td>\n",
       "      <td>-3.906</td>\n",
       "      <td>1</td>\n",
       "      <td>0.0460</td>\n",
       "      <td>0.0910</td>\n",
       "      <td>0.0</td>\n",
       "      <td>0.0264</td>\n",
       "      <td>0.550</td>\n",
       "      <td>88.098</td>\n",
       "      <td>3Kkjo3cT83cw09VJyrLNwX</td>\n",
       "      <td>225149</td>\n",
       "      <td>4</td>\n",
       "      <td>Oh My God</td>\n",
       "    </tr>\n",
       "    <tr>\n",
       "      <th>3</th>\n",
       "      <td>0.741</td>\n",
       "      <td>0.691</td>\n",
       "      <td>10</td>\n",
       "      <td>-7.395</td>\n",
       "      <td>0</td>\n",
       "      <td>0.0672</td>\n",
       "      <td>0.0221</td>\n",
       "      <td>0.0</td>\n",
       "      <td>0.0476</td>\n",
       "      <td>0.892</td>\n",
       "      <td>150.087</td>\n",
       "      <td>5Z9KJZvQzH6PFmb8SNkxuk</td>\n",
       "      <td>212353</td>\n",
       "      <td>4</td>\n",
       "      <td>INDUSTRY BABY (feat. Jack Harlow)</td>\n",
       "    </tr>\n",
       "    <tr>\n",
       "      <th>4</th>\n",
       "      <td>0.703</td>\n",
       "      <td>0.680</td>\n",
       "      <td>9</td>\n",
       "      <td>-6.118</td>\n",
       "      <td>0</td>\n",
       "      <td>0.0431</td>\n",
       "      <td>0.0171</td>\n",
       "      <td>0.0</td>\n",
       "      <td>0.1780</td>\n",
       "      <td>0.536</td>\n",
       "      <td>97.985</td>\n",
       "      <td>6w8ZPYdnGajyfPddTWdthN</td>\n",
       "      <td>210384</td>\n",
       "      <td>4</td>\n",
       "      <td>Can I Get It</td>\n",
       "    </tr>\n",
       "  </tbody>\n",
       "</table>\n",
       "</div>"
      ],
      "text/plain": [
       "   danceability  energy  key  loudness  mode  speechiness  acousticness  \\\n",
       "0         0.604   0.366    5    -7.519     1       0.0282        0.5780   \n",
       "1         0.631   0.518    0    -8.771     1       0.0303        0.2740   \n",
       "2         0.534   0.725    1    -3.906     1       0.0460        0.0910   \n",
       "3         0.741   0.691   10    -7.395     0       0.0672        0.0221   \n",
       "4         0.703   0.680    9    -6.118     0       0.0431        0.0171   \n",
       "\n",
       "   instrumentalness  liveness  valence    tempo                      id  \\\n",
       "0               0.0    0.1330    0.130  141.981  46IZ0fSY2mpAiktS3KOqds   \n",
       "1               0.0    0.0880    0.205   93.023  5enxwA8aAbwZbf5qCHORXi   \n",
       "2               0.0    0.0264    0.550   88.098  3Kkjo3cT83cw09VJyrLNwX   \n",
       "3               0.0    0.0476    0.892  150.087  5Z9KJZvQzH6PFmb8SNkxuk   \n",
       "4               0.0    0.1780    0.536   97.985  6w8ZPYdnGajyfPddTWdthN   \n",
       "\n",
       "   duration_ms  time_signature  \\\n",
       "0       224695               4   \n",
       "1       613027               4   \n",
       "2       225149               4   \n",
       "3       212353               4   \n",
       "4       210384               4   \n",
       "\n",
       "                                                name  \n",
       "0                                         Easy On Me  \n",
       "1  All Too Well (10 Minute Version) (Taylor's Ver...  \n",
       "2                                          Oh My God  \n",
       "3                  INDUSTRY BABY (feat. Jack Harlow)  \n",
       "4                                       Can I Get It  "
      ]
     },
     "execution_count": 79,
     "metadata": {},
     "output_type": "execute_result"
    }
   ],
   "source": [
    "finalDf.drop(['type', 'uri', 'track_href', 'analysis_url' ], axis = 1).head()"
   ]
  },
  {
   "cell_type": "markdown",
   "id": "ccc2ae22",
   "metadata": {},
   "source": [
    "At this point, I could export this to a CSV file. However, I would really like to wait until I do the analysis portion of this project so I can look at most recent songs released and also the most recent Top Songs USA playlist."
   ]
  }
 ],
 "metadata": {
  "kernelspec": {
   "display_name": "Python 3 (ipykernel)",
   "language": "python",
   "name": "python3"
  },
  "language_info": {
   "codemirror_mode": {
    "name": "ipython",
    "version": 3
   },
   "file_extension": ".py",
   "mimetype": "text/x-python",
   "name": "python",
   "nbconvert_exporter": "python",
   "pygments_lexer": "ipython3",
   "version": "3.9.6"
  }
 },
 "nbformat": 4,
 "nbformat_minor": 5
}
